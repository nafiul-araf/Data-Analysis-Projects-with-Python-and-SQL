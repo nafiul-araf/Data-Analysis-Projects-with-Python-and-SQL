{
  "nbformat": 4,
  "nbformat_minor": 0,
  "metadata": {
    "colab": {
      "provenance": []
    },
    "kernelspec": {
      "name": "python3",
      "display_name": "Python 3"
    },
    "language_info": {
      "name": "python"
    }
  },
  "cells": [
    {
      "cell_type": "code",
      "execution_count": 1,
      "metadata": {
        "id": "VtmKKG8dJHGQ"
      },
      "outputs": [],
      "source": [
        "# 1. Write a program to check if a number is positive.\n",
        "# 2. Write a program to check if a number is negative.\n",
        "# 3. Check if a number is divisible by 5.\n",
        "# 4. Write a program to check if a string starts with the letter \"A\".\n",
        "# 5. Check if a given number is zero.\n",
        "# 6. Write a program to check if a string is uppercase.\n",
        "# 7. Check if a string contains only alphabets.\n",
        "# 8. Determine if a number is between 1 and 100.\n",
        "# 9. Check if the first character of a string is a vowel.\n",
        "# 10. Verify if a given string ends with a question mark."
      ]
    },
    {
      "cell_type": "code",
      "source": [
        "# 1. Write a program to check if a number is positive.\n",
        "\n",
        "a = int(input('Enter a number: '))\n",
        "\n",
        "if a < 0:\n",
        "  print('Not Positive!')\n",
        "else:\n",
        "  print('Positive!')"
      ],
      "metadata": {
        "colab": {
          "base_uri": "https://localhost:8080/"
        },
        "id": "A3mIpPnHJOKT",
        "outputId": "191b29d4-a90e-4515-d725-9b16795d0a50"
      },
      "execution_count": 2,
      "outputs": [
        {
          "output_type": "stream",
          "name": "stdout",
          "text": [
            "Enter a number: 12\n",
            "Positive!\n"
          ]
        }
      ]
    },
    {
      "cell_type": "code",
      "source": [
        "# 2. Write a program to check if a number is negative.\n",
        "\n",
        "a = int(input('Enter a number: '))\n",
        "\n",
        "if a < 0:\n",
        "  print('Negative!')\n",
        "else:\n",
        "  print('Not Negative!')"
      ],
      "metadata": {
        "colab": {
          "base_uri": "https://localhost:8080/"
        },
        "id": "Uo9CrFVOJnAM",
        "outputId": "118a5cb8-d7b1-4510-cbf3-8e02fa4055ee"
      },
      "execution_count": 3,
      "outputs": [
        {
          "output_type": "stream",
          "name": "stdout",
          "text": [
            "Enter a number: 22\n",
            "Not Negative!\n"
          ]
        }
      ]
    },
    {
      "cell_type": "code",
      "source": [
        "# 3. Check if a number is divisible by 5.\n",
        "\n",
        "a = int(input('Enter a number: '))\n",
        "\n",
        "if a%5 == 0:\n",
        "  print(f\"The number {a} is divisible by 5\")\n",
        "else:\n",
        "  print(f\"The number {a} is not divisible by 5\")"
      ],
      "metadata": {
        "colab": {
          "base_uri": "https://localhost:8080/"
        },
        "id": "6tEJFPmXJ54q",
        "outputId": "cd136bba-fd38-4500-f813-0c29aac81c77"
      },
      "execution_count": 4,
      "outputs": [
        {
          "output_type": "stream",
          "name": "stdout",
          "text": [
            "Enter a number: 56\n",
            "The number 56 is not divisible by 5\n"
          ]
        }
      ]
    },
    {
      "cell_type": "code",
      "source": [
        "# 4. Write a program to check if a string starts with the letter \"A\".\n",
        "\n",
        "a = input('Enter a string: ')\n",
        "\n",
        "if a.startswith(\"A\"):\n",
        "  print(\"True\")\n",
        "else:\n",
        "  print(\"False\")"
      ],
      "metadata": {
        "colab": {
          "base_uri": "https://localhost:8080/"
        },
        "id": "ABYFEnxiKP0i",
        "outputId": "0328292f-8e21-497b-be13-2915db226e6c"
      },
      "execution_count": 5,
      "outputs": [
        {
          "output_type": "stream",
          "name": "stdout",
          "text": [
            "Enter a string: sdfdff\n",
            "False\n"
          ]
        }
      ]
    },
    {
      "cell_type": "code",
      "source": [
        "# 5. Check if a given number is zero.\n",
        "\n",
        "a = int(input('Enter a number: '))\n",
        "\n",
        "if a == 0:\n",
        "  print(\"True\")\n",
        "else:\n",
        "  print(\"False\")"
      ],
      "metadata": {
        "colab": {
          "base_uri": "https://localhost:8080/"
        },
        "id": "pn4a9YW0KtwZ",
        "outputId": "75e97693-2b5a-4234-a1e7-330a726041f2"
      },
      "execution_count": 6,
      "outputs": [
        {
          "output_type": "stream",
          "name": "stdout",
          "text": [
            "Enter a number: 2\n",
            "False\n"
          ]
        }
      ]
    },
    {
      "cell_type": "code",
      "source": [
        "# 6. Write a program to check if a string is uppercase.\n",
        "\n",
        "a = input('Enter a string: ')\n",
        "\n",
        "if a.isupper():\n",
        "  print(\"True\")\n",
        "else:\n",
        "  print(\"False\")"
      ],
      "metadata": {
        "colab": {
          "base_uri": "https://localhost:8080/"
        },
        "id": "5d4s1A7aLByY",
        "outputId": "6d2a3d1c-7902-40f5-a425-32d54b1cb94b"
      },
      "execution_count": 7,
      "outputs": [
        {
          "output_type": "stream",
          "name": "stdout",
          "text": [
            "Enter a string: xcvsuhsh\n",
            "False\n"
          ]
        }
      ]
    },
    {
      "cell_type": "code",
      "source": [
        "# 7. Check if a string contains only alphabets.\n",
        "\n",
        "a = input('Enter a string: ')\n",
        "\n",
        "if a.isalpha():\n",
        "  print(\"True\")\n",
        "else:\n",
        "  print(\"False\")"
      ],
      "metadata": {
        "colab": {
          "base_uri": "https://localhost:8080/"
        },
        "id": "NKgodHGbLP5X",
        "outputId": "01ec2a03-33f9-4b08-96f2-15e38a35330f"
      },
      "execution_count": 8,
      "outputs": [
        {
          "output_type": "stream",
          "name": "stdout",
          "text": [
            "Enter a string: asdfuygsyfasfg\n",
            "True\n"
          ]
        }
      ]
    },
    {
      "cell_type": "code",
      "source": [
        "# 8. Determine if a number is between 1 and 100.\n",
        "\n",
        "a = int(input('Enter a number: '))\n",
        "\n",
        "if a > 1 and a < 100:\n",
        "  print(\"True\")\n",
        "else:\n",
        "  print(\"False\")"
      ],
      "metadata": {
        "colab": {
          "base_uri": "https://localhost:8080/"
        },
        "id": "Qy_GYAxgLggH",
        "outputId": "830a57e8-525f-4924-d0b9-cf84b8328391"
      },
      "execution_count": 9,
      "outputs": [
        {
          "output_type": "stream",
          "name": "stdout",
          "text": [
            "Enter a number: 6\n",
            "True\n"
          ]
        }
      ]
    },
    {
      "cell_type": "code",
      "source": [
        "# 9. Check if the first character of a string is a vowel.\n",
        "\n",
        "a = input('Enter a string: ')\n",
        "\n",
        "vowels = ['a', 'e', 'i', 'o', 'u', 'A', 'E', 'I', 'O', 'U']\n",
        "\n",
        "if a[0] in vowels:\n",
        "  print(\"True\")\n",
        "else:\n",
        "  print(\"False\")"
      ],
      "metadata": {
        "colab": {
          "base_uri": "https://localhost:8080/"
        },
        "id": "jA8sIKlNLvnW",
        "outputId": "caf746cb-39c3-4ca0-8609-cac90226dfb7"
      },
      "execution_count": 10,
      "outputs": [
        {
          "output_type": "stream",
          "name": "stdout",
          "text": [
            "Enter a string: jhgyy\n",
            "False\n"
          ]
        }
      ]
    },
    {
      "cell_type": "code",
      "source": [
        "# 10. Verify if a given string ends with a question mark.\n",
        "\n",
        "a = input('Enter a string: ')\n",
        "\n",
        "\n",
        "if a.endswith(\"?\"):\n",
        "  print(\"True\")\n",
        "else:\n",
        "  print(\"False\")"
      ],
      "metadata": {
        "colab": {
          "base_uri": "https://localhost:8080/"
        },
        "id": "Vgc4JNTCMRb-",
        "outputId": "4f31dda7-7927-472f-96a5-1b56ec72d62c"
      },
      "execution_count": 11,
      "outputs": [
        {
          "output_type": "stream",
          "name": "stdout",
          "text": [
            "Enter a string: ajhgagydah?\n",
            "True\n"
          ]
        }
      ]
    },
    {
      "cell_type": "code",
      "source": [
        "# 11. Write a program to check if a number is even or odd.\n",
        "# 12. Check if a person is eligible to vote (18 or older).\n",
        "# 13. Determine if a word has more than five characters.\n",
        "# 14. Write a program to check if a number is positive or negative.\n",
        "# 15. Determine if a string has more than 10 characters.\n",
        "# 16. Write a program to check if a number is divisible by 2 or not.\n",
        "# 17. Check if a given string is in uppercase, else convert it to uppercase.\n",
        "# 18. Check if a number is between 50 and 100. If it is, print “In Range”; otherwise, print “Out of Range.”\n",
        "# 19. Write a program to determine if a string is empty. If it’s not, print the string.\n",
        "# 20. Check if a number is greater than 10; if not, add 10 to it."
      ],
      "metadata": {
        "id": "XZbBbimAMfJk"
      },
      "execution_count": 12,
      "outputs": []
    },
    {
      "cell_type": "code",
      "source": [
        "# 11. Write a program to check if a number is even or odd.\n",
        "\n",
        "a = int(input('Enter a number: '))\n",
        "\n",
        "if a % 2 == 0:\n",
        "  print('Even')\n",
        "else:\n",
        "  print('odd')"
      ],
      "metadata": {
        "colab": {
          "base_uri": "https://localhost:8080/"
        },
        "id": "r_XR56JKR0Tu",
        "outputId": "bb4efd9a-a8ed-40b4-b16e-c61eba8825b2"
      },
      "execution_count": 13,
      "outputs": [
        {
          "output_type": "stream",
          "name": "stdout",
          "text": [
            "Enter a number: 88\n",
            "Even\n"
          ]
        }
      ]
    },
    {
      "cell_type": "code",
      "source": [
        "# 12. Check if a person is eligible to vote (18 or older).\n",
        "\n",
        "age = int(input('Enter age: '))\n",
        "\n",
        "if age >= 18:\n",
        "  print('Eligible to vote')\n",
        "else:\n",
        "  print('Not eligible to vote')"
      ],
      "metadata": {
        "id": "x0zVf754SLRK",
        "colab": {
          "base_uri": "https://localhost:8080/"
        },
        "outputId": "ba979d7e-27e9-44e6-c8d1-943cc09f4057"
      },
      "execution_count": 14,
      "outputs": [
        {
          "output_type": "stream",
          "name": "stdout",
          "text": [
            "Enter age: 66\n",
            "Eligible to vote\n"
          ]
        }
      ]
    },
    {
      "cell_type": "code",
      "source": [
        "# 13. Determine if a word has more than five characters.\n",
        "\n",
        "word = input(\"Enter a word: \")\n",
        "\n",
        "if len(word) > 5:\n",
        "  print(\"True\")\n",
        "else:\n",
        "  print(\"False\")"
      ],
      "metadata": {
        "id": "J2_kQfviSgF8",
        "colab": {
          "base_uri": "https://localhost:8080/"
        },
        "outputId": "4a8c6f3f-ec3b-430f-93ac-b05332f59ca0"
      },
      "execution_count": 15,
      "outputs": [
        {
          "output_type": "stream",
          "name": "stdout",
          "text": [
            "Enter a word: asdggfsF\n",
            "True\n"
          ]
        }
      ]
    },
    {
      "cell_type": "code",
      "source": [
        "# 14. Write a program to check if a number is positive or negative.\n",
        "\n",
        "a = int(input('Enter a number: '))\n",
        "\n",
        "if a > 0:\n",
        "  print('Positive!')\n",
        "else:\n",
        "  print('Negative!')"
      ],
      "metadata": {
        "colab": {
          "base_uri": "https://localhost:8080/"
        },
        "id": "LqTkgT6zKXDT",
        "outputId": "0d71d9ae-004f-4d0c-ed4f-e4edb1297477"
      },
      "execution_count": 16,
      "outputs": [
        {
          "output_type": "stream",
          "name": "stdout",
          "text": [
            "Enter a number: 1\n",
            "Positive!\n"
          ]
        }
      ]
    },
    {
      "cell_type": "code",
      "source": [
        "# 15. Determine if a string has more than 10 characters.\n",
        "\n",
        "s = input(\"Enter a string: \")\n",
        "\n",
        "if len(s) > 10:\n",
        "  print(\"True\")\n",
        "else:\n",
        "  print(\"False\")"
      ],
      "metadata": {
        "colab": {
          "base_uri": "https://localhost:8080/"
        },
        "id": "uZWbUaaZKu3S",
        "outputId": "07f39bb1-e04c-4cbc-bd99-53a1aafd11fe"
      },
      "execution_count": 17,
      "outputs": [
        {
          "output_type": "stream",
          "name": "stdout",
          "text": [
            "Enter a string: DSsdDSGY\n",
            "False\n"
          ]
        }
      ]
    },
    {
      "cell_type": "code",
      "source": [
        "# 16. Write a program to check if a number is divisible by 2 or not.\n",
        "\n",
        "a = int(input('Enter a number: '))\n",
        "\n",
        "a%2 == 0"
      ],
      "metadata": {
        "colab": {
          "base_uri": "https://localhost:8080/"
        },
        "id": "I27x2xm3K5Hp",
        "outputId": "28f24c55-dd3f-4b25-ff24-c429285e6b25"
      },
      "execution_count": 18,
      "outputs": [
        {
          "name": "stdout",
          "output_type": "stream",
          "text": [
            "Enter a number: 23\n"
          ]
        },
        {
          "output_type": "execute_result",
          "data": {
            "text/plain": [
              "False"
            ]
          },
          "metadata": {},
          "execution_count": 18
        }
      ]
    },
    {
      "cell_type": "code",
      "source": [
        "# 17. Check if a given string is in uppercase, else convert it to uppercase.\n",
        "\n",
        "s = input(\"Enter a string: \")\n",
        "\n",
        "if s.isupper():\n",
        "  print(\"String is in uppercase\")\n",
        "else:\n",
        "  s = s.upper()\n",
        "  print(f\"{s}\\n\")\n",
        "  print(\"String wasn't in uppercase\")"
      ],
      "metadata": {
        "colab": {
          "base_uri": "https://localhost:8080/"
        },
        "id": "KxIMYloYLN-R",
        "outputId": "2abb290a-c2de-4cdc-c941-6cc12c4880cb"
      },
      "execution_count": 19,
      "outputs": [
        {
          "output_type": "stream",
          "name": "stdout",
          "text": [
            "Enter a string: Sddsdsd\n",
            "SDDSDSD\n",
            "\n",
            "String wasn't in uppercase\n"
          ]
        }
      ]
    },
    {
      "cell_type": "code",
      "source": [
        "# 18. Check if a number is between 50 and 100. If it is, print “In Range”; otherwise, print “Out of Range.”\n",
        "\n",
        "a = int(input('Enter a number: '))\n",
        "\n",
        "if a > 50 and a < 100:\n",
        "  print(\"In Range\")\n",
        "else:\n",
        "  print(\"Out of Range.\")"
      ],
      "metadata": {
        "colab": {
          "base_uri": "https://localhost:8080/"
        },
        "id": "wBf9pUlYLucJ",
        "outputId": "8a911ae5-985e-416c-fbf9-16b7af7e2eb5"
      },
      "execution_count": 20,
      "outputs": [
        {
          "output_type": "stream",
          "name": "stdout",
          "text": [
            "Enter a number: 24\n",
            "Out of Range.\n"
          ]
        }
      ]
    },
    {
      "cell_type": "code",
      "source": [
        "# 19. Write a program to determine if a string is empty. If it’s not, print the string.\n",
        "\n",
        "s = input(\"Enter a string: \")\n",
        "\n",
        "if s != '':\n",
        "  print(s)\n",
        "else:\n",
        "  print(\"The string is empty\")"
      ],
      "metadata": {
        "colab": {
          "base_uri": "https://localhost:8080/"
        },
        "id": "8_6u0T4CMNzo",
        "outputId": "dd97ebc0-7cf9-4513-f9a8-ce970338d1a7"
      },
      "execution_count": 21,
      "outputs": [
        {
          "output_type": "stream",
          "name": "stdout",
          "text": [
            "Enter a string: fdgfghdh\n",
            "fdgfghdh\n"
          ]
        }
      ]
    },
    {
      "cell_type": "code",
      "source": [
        "# 20. Check if a number is greater than 10; if not, add 10 to it.\n",
        "\n",
        "a = int(input('Enter a number: '))\n",
        "\n",
        "if a > 10:\n",
        "  print(f\"Yes the number {a} is greater than 10\")\n",
        "else:\n",
        "  b = a + 10\n",
        "  print(f\"The number {a} is not greater than 10, so 10 added to it! The output is {b}\")"
      ],
      "metadata": {
        "colab": {
          "base_uri": "https://localhost:8080/"
        },
        "id": "FbA83GeNMnSw",
        "outputId": "1637b66b-44ca-4bab-eac9-87cfba8c175d"
      },
      "execution_count": 22,
      "outputs": [
        {
          "output_type": "stream",
          "name": "stdout",
          "text": [
            "Enter a number: 12\n",
            "Yes the number 12 is greater than 10\n"
          ]
        }
      ]
    },
    {
      "cell_type": "code",
      "source": [
        "# 31. Write a program to check if a number is positive, negative, or zero, then if it's even or odd.\n",
        "# 32. Check if a year is a leap year and also divisible by 400.\n",
        "# 33. Write a program to check if a number is divisible by 2 and 3.\n",
        "# 34. Check if a string starts with a vowel and contains more than 5 characters.\n",
        "# 35. Determine if a person is eligible to vote; if yes, check if they’re also eligible for senior benefits (65+).\n",
        "# 36. Write a program to check if a number is greater than 10; if so, check if it’s also less than 20.\n",
        "# 37. Check if a number is within a range and is divisible by both 3 and 5.\n",
        "# 38. Write a program to check if a number is positive; if not, check if it’s zero or negative.\n",
        "# 39. Determine if a number is odd, then check if it’s prime.\n",
        "# 40. Check if a student’s grade is A or B; if yes, check if they’re also on the honor roll."
      ],
      "metadata": {
        "id": "t1wpWKo_NZox"
      },
      "execution_count": 23,
      "outputs": []
    },
    {
      "cell_type": "code",
      "source": [
        "# 31. Write a program to check if a number is positive, negative, or zero, then if it's even or odd.\n",
        "\n",
        "a = int(input('Enter a number: '))\n",
        "\n",
        "if a > 0 or a < 0 or a == 0:\n",
        "  if a%2 == 0:\n",
        "    print(\"Even\")\n",
        "  else:\n",
        "    print(\"Odd\")"
      ],
      "metadata": {
        "colab": {
          "base_uri": "https://localhost:8080/"
        },
        "id": "IubDDdzZ74Tp",
        "outputId": "3a4f2b54-bd62-4f6a-8ea2-56078accd8f1"
      },
      "execution_count": 24,
      "outputs": [
        {
          "output_type": "stream",
          "name": "stdout",
          "text": [
            "Enter a number: 11\n",
            "Odd\n"
          ]
        }
      ]
    },
    {
      "cell_type": "code",
      "source": [
        "# 32. Check if a year is a leap year and also divisible by 400.\n",
        "\n",
        "year = int(input('Enter a year: '))\n",
        "\n",
        "if year%4 == 0 and year%400 == 0:\n",
        "  print(f\"Year {year} is a leap year and also divisible by 400.\")\n",
        "else:\n",
        "  print(f\"Year {year} is not a leap year and also divisible by 400.\")"
      ],
      "metadata": {
        "colab": {
          "base_uri": "https://localhost:8080/"
        },
        "id": "HXAtDdSU86OO",
        "outputId": "228778b6-8621-4712-e2ff-cef9d9b72558"
      },
      "execution_count": 25,
      "outputs": [
        {
          "output_type": "stream",
          "name": "stdout",
          "text": [
            "Enter a year: 313443\n",
            "Year 313443 is not a leap year and also divisible by 400.\n"
          ]
        }
      ]
    },
    {
      "cell_type": "code",
      "source": [
        "# 33. Write a program to check if a number is divisible by 2 and 3.\n",
        "\n",
        "a = int(input('Enter a number: '))\n",
        "\n",
        "if a%2 == 0 and a%3 == 0:\n",
        "  print(f\"The number is divisible by 2 and 3\")\n",
        "else:\n",
        "  print(f\"The number is not divisible by 2 and 3\")"
      ],
      "metadata": {
        "colab": {
          "base_uri": "https://localhost:8080/"
        },
        "id": "iRoXDJf0-ipX",
        "outputId": "e31b2399-f974-4dd5-b073-2a35d318bffe"
      },
      "execution_count": 26,
      "outputs": [
        {
          "output_type": "stream",
          "name": "stdout",
          "text": [
            "Enter a number: 42\n",
            "The number is divisible by 2 and 3\n"
          ]
        }
      ]
    },
    {
      "cell_type": "code",
      "source": [
        "# 34. Check if a string starts with a vowel and contains more than 5 characters.\n",
        "\n",
        "s = input(\"Enter a string: \")\n",
        "\n",
        "vowels = ['a', 'e', 'i', 'o', 'u', 'A', 'E', 'I', 'O', 'U']\n",
        "\n",
        "\n",
        "if s[0] in vowels and len(s) > 5:\n",
        "  print(f\"The string starts with a vowel and contains more than 5 characters.\")\n",
        "else:\n",
        "  print(f\"The string not starts with a vowel and contains more than 5 characters.\")"
      ],
      "metadata": {
        "colab": {
          "base_uri": "https://localhost:8080/"
        },
        "id": "qp2MPXjk_EJk",
        "outputId": "e2031075-fa70-4b6b-94d3-45e62cb5fbde"
      },
      "execution_count": 27,
      "outputs": [
        {
          "output_type": "stream",
          "name": "stdout",
          "text": [
            "Enter a string: afaffdgg\n",
            "The string starts with a vowel and contains more than 5 characters.\n"
          ]
        }
      ]
    },
    {
      "cell_type": "code",
      "source": [
        "# 35. Determine if a person is eligible to vote; if yes, check if they’re also eligible for senior benefits (65+).\n",
        "\n",
        "age = int(input(\"Enter age: \"))\n",
        "\n",
        "if age >= 18:\n",
        "  if age > 65:\n",
        "    print(f\"The person is eligible for vote and also eligible for senior benefits\")\n",
        "  else:\n",
        "    print(f\"The is eligible for vote but not eligible for senior benefits\")\n",
        "else:\n",
        "  print(\"The person not eligible for vote\")"
      ],
      "metadata": {
        "colab": {
          "base_uri": "https://localhost:8080/"
        },
        "id": "NT1PKTgt_pVd",
        "outputId": "6fecc363-3da2-4d43-8a1d-c9f4f21ba202"
      },
      "execution_count": 28,
      "outputs": [
        {
          "output_type": "stream",
          "name": "stdout",
          "text": [
            "Enter age: 44\n",
            "The is eligible for vote but not eligible for senior benefits\n"
          ]
        }
      ]
    },
    {
      "cell_type": "code",
      "source": [
        "# 36. Write a program to check if a number is greater than 10; if so, check if it’s also less than 20.\n",
        "\n",
        "a = int(input('Enter a number: '))\n",
        "\n",
        "if a > 10:\n",
        "  if a < 20:\n",
        "    print(\"Greater than 10 and less than 20\")\n",
        "  else:\n",
        "    print(\"Greater than 10 but not less than 20\")\n",
        "else:\n",
        "  print(\"Less than 10\")"
      ],
      "metadata": {
        "colab": {
          "base_uri": "https://localhost:8080/"
        },
        "id": "NXIyL0ckAbIL",
        "outputId": "96fbeef3-2491-4ae4-b3af-6b2161ffd403"
      },
      "execution_count": 29,
      "outputs": [
        {
          "output_type": "stream",
          "name": "stdout",
          "text": [
            "Enter a number: 32\n",
            "Greater than 10 but not less than 20\n"
          ]
        }
      ]
    },
    {
      "cell_type": "code",
      "source": [
        "# 37. Check if a number is within a range and is divisible by both 3 and 5.\n",
        "\n",
        "a = int(input('Enter a number: '))\n",
        "lower_bound = int(input(\"Enter the lower bound of the range: \"))\n",
        "upper_bound = int(input(\"Enter the upper bound of the range: \"))\n",
        "\n",
        "if lower_bound <= a <= upper_bound and a%3 == 0 and a%5 == 0:\n",
        "  print(\"number is within a range and is divisible by both 3 and 5\")\n",
        "else:\n",
        "  print(\"number is not within a range and is divisible by both 3 and 5\")"
      ],
      "metadata": {
        "colab": {
          "base_uri": "https://localhost:8080/"
        },
        "id": "dBOrTOkGA84P",
        "outputId": "5a16ee8b-0254-42fa-9443-6074cf5cbc98"
      },
      "execution_count": 30,
      "outputs": [
        {
          "output_type": "stream",
          "name": "stdout",
          "text": [
            "Enter a number: 23\n",
            "Enter the lower bound of the range: 11\n",
            "Enter the upper bound of the range: 44\n",
            "number is not within a range and is divisible by both 3 and 5\n"
          ]
        }
      ]
    },
    {
      "cell_type": "code",
      "source": [
        "# 38. Write a program to check if a number is positive; if not, check if it’s zero or negative.\n",
        "\n",
        "a = int(input('Enter a number: '))\n",
        "\n",
        "if a > 0:\n",
        "  print(\"The number is positive\")\n",
        "elif a == 0:\n",
        "  print(\"The number is zero\")\n",
        "else:\n",
        "  print(\"The number is negative\")"
      ],
      "metadata": {
        "colab": {
          "base_uri": "https://localhost:8080/"
        },
        "id": "IB7F2CjyCASa",
        "outputId": "b128a86c-1bd4-424f-c38f-b77cfbb6f37e"
      },
      "execution_count": 31,
      "outputs": [
        {
          "output_type": "stream",
          "name": "stdout",
          "text": [
            "Enter a number: 2112\n",
            "The number is positive\n"
          ]
        }
      ]
    },
    {
      "cell_type": "code",
      "source": [
        "# 39. Determine if a number is odd, then check if it’s prime.\n",
        "\n",
        "a = int(input('Enter a number: '))\n",
        "\n",
        "if a%2 != 0:\n",
        "  if a <= 1:\n",
        "    print(f\"{a} is not a prime number\")\n",
        "  else:\n",
        "    for i in range(2, int(a**0.5) + 1):\n",
        "      if a % i == 0:\n",
        "          print(f\"{a} is not a prime number\")\n",
        "          break\n",
        "    else:\n",
        "      print(f\"{a} is a prime number\")\n",
        "else:\n",
        "  print(f\"{a} is a even number\")"
      ],
      "metadata": {
        "colab": {
          "base_uri": "https://localhost:8080/"
        },
        "id": "uFPJI-GbCnz-",
        "outputId": "3a05a3d0-73a4-4484-9244-5220d867cf5b"
      },
      "execution_count": 32,
      "outputs": [
        {
          "output_type": "stream",
          "name": "stdout",
          "text": [
            "Enter a number: 1233\n",
            "1233 is not a prime number\n"
          ]
        }
      ]
    },
    {
      "cell_type": "code",
      "source": [
        "# 40. Check if a student’s grade is A or B; if yes, check if they’re also on the honor roll.\n",
        "\n",
        "grade = input(\"Enter the student's grade (A, B, C, etc.): \").strip().upper()\n",
        "honor_roll = input(\"Is the student on the honor roll? (yes/no): \").strip().lower()\n",
        "\n",
        "if grade in ('A', 'B'):\n",
        "    if honor_roll == 'yes':\n",
        "        print(f\"The student has a grade of {grade} and is on the honor roll.\")\n",
        "    else:\n",
        "        print(f\"The student has a grade of {grade} but is not on the honor roll.\")\n",
        "else:\n",
        "    print(\"The student does not have a grade of A or B.\")"
      ],
      "metadata": {
        "colab": {
          "base_uri": "https://localhost:8080/"
        },
        "id": "ip0VxrrYD-Dd",
        "outputId": "4edcacb9-b68c-4418-935c-6c024a992a0f"
      },
      "execution_count": 33,
      "outputs": [
        {
          "output_type": "stream",
          "name": "stdout",
          "text": [
            "Enter the student's grade (A, B, C, etc.): a\n",
            "Is the student on the honor roll? (yes/no): no\n",
            "The student has a grade of A but is not on the honor roll.\n"
          ]
        }
      ]
    },
    {
      "cell_type": "code",
      "source": [
        "# 41. Print numbers from 1 to 10.\n",
        "# 42. Print all even numbers from 1 to 20.\n",
        "# 43. Print all odd numbers from 1 to 20.\n",
        "# 44. Print each character in a string.\n",
        "# 45. Iterate through a list of names and print each name.\n",
        "# 46. Print the square of each number from 1 to 10.\n",
        "# 47. Print all numbers from a list that are greater than 5.\n",
        "# 48. Create a list of numbers from 1 to 10 using a for loop.\n",
        "# 49. Iterate through a list of numbers and print only the odd ones.\n",
        "# 50. Print the multiplication table of a given number."
      ],
      "metadata": {
        "id": "jaCzAZi6EqHK"
      },
      "execution_count": 34,
      "outputs": []
    },
    {
      "cell_type": "code",
      "source": [
        "# 41. Print numbers from 1 to 10.\n",
        "\n",
        "for i in range(1, 11):\n",
        "  print(i)"
      ],
      "metadata": {
        "colab": {
          "base_uri": "https://localhost:8080/"
        },
        "id": "OwMjDCgNE9M_",
        "outputId": "f8397d65-9b25-4033-b936-0368ae9c8f67"
      },
      "execution_count": 35,
      "outputs": [
        {
          "output_type": "stream",
          "name": "stdout",
          "text": [
            "1\n",
            "2\n",
            "3\n",
            "4\n",
            "5\n",
            "6\n",
            "7\n",
            "8\n",
            "9\n",
            "10\n"
          ]
        }
      ]
    },
    {
      "cell_type": "code",
      "source": [
        "# 42. Print all even numbers from 1 to 20.\n",
        "\n",
        "for i in range(1, 21):\n",
        "  if i%2 == 0:\n",
        "    print(i)"
      ],
      "metadata": {
        "colab": {
          "base_uri": "https://localhost:8080/"
        },
        "id": "V6U5Kew5FGig",
        "outputId": "1c5428a8-d6c7-4426-cade-801b065cceb2"
      },
      "execution_count": 36,
      "outputs": [
        {
          "output_type": "stream",
          "name": "stdout",
          "text": [
            "2\n",
            "4\n",
            "6\n",
            "8\n",
            "10\n",
            "12\n",
            "14\n",
            "16\n",
            "18\n",
            "20\n"
          ]
        }
      ]
    },
    {
      "cell_type": "code",
      "source": [
        "# 43. Print all odd numbers from 1 to 20.\n",
        "\n",
        "for i in range(1, 21):\n",
        "  if i%2 != 0:\n",
        "    print(i)"
      ],
      "metadata": {
        "colab": {
          "base_uri": "https://localhost:8080/"
        },
        "id": "yG6Qd87yFPfg",
        "outputId": "b7e9d4d5-b783-4594-e7b5-cc8d9fe819d9"
      },
      "execution_count": 37,
      "outputs": [
        {
          "output_type": "stream",
          "name": "stdout",
          "text": [
            "1\n",
            "3\n",
            "5\n",
            "7\n",
            "9\n",
            "11\n",
            "13\n",
            "15\n",
            "17\n",
            "19\n"
          ]
        }
      ]
    },
    {
      "cell_type": "code",
      "source": [
        "# 44. Print each character in a string.\n",
        "\n",
        "s = \"nafiul araf\"\n",
        "\n",
        "for i in s:\n",
        "  print(i)"
      ],
      "metadata": {
        "colab": {
          "base_uri": "https://localhost:8080/"
        },
        "id": "mcVEA8qtFaO3",
        "outputId": "969e6abb-4919-4ec4-ef84-e4543252d05a"
      },
      "execution_count": 38,
      "outputs": [
        {
          "output_type": "stream",
          "name": "stdout",
          "text": [
            "n\n",
            "a\n",
            "f\n",
            "i\n",
            "u\n",
            "l\n",
            " \n",
            "a\n",
            "r\n",
            "a\n",
            "f\n"
          ]
        }
      ]
    },
    {
      "cell_type": "code",
      "source": [
        "# 45. Iterate through a list of names and print each name.\n",
        "\n",
        "names = ['nafiul', 'sobuj', 'sagor', 'rayhan', 'sakib']\n",
        "\n",
        "for name in names:\n",
        "  print(name)"
      ],
      "metadata": {
        "colab": {
          "base_uri": "https://localhost:8080/"
        },
        "id": "uVABZ-kqFidF",
        "outputId": "8aed8225-8f23-4915-8da0-1a95ec59535d"
      },
      "execution_count": 39,
      "outputs": [
        {
          "output_type": "stream",
          "name": "stdout",
          "text": [
            "nafiul\n",
            "sobuj\n",
            "sagor\n",
            "rayhan\n",
            "sakib\n"
          ]
        }
      ]
    },
    {
      "cell_type": "code",
      "source": [
        "# 46. Print the square of each number from 1 to 10.\n",
        "\n",
        "for i in range(1, 11):\n",
        "  print(i**2)"
      ],
      "metadata": {
        "colab": {
          "base_uri": "https://localhost:8080/"
        },
        "id": "3bUX1FZ7FxOU",
        "outputId": "5c77f991-578a-4132-f858-481f0fc9cc10"
      },
      "execution_count": 40,
      "outputs": [
        {
          "output_type": "stream",
          "name": "stdout",
          "text": [
            "1\n",
            "4\n",
            "9\n",
            "16\n",
            "25\n",
            "36\n",
            "49\n",
            "64\n",
            "81\n",
            "100\n"
          ]
        }
      ]
    },
    {
      "cell_type": "code",
      "source": [
        "# 47. Print all numbers from a list that are greater than 5.\n",
        "\n",
        "nums = [1, 3, 8, 10, 11, 20, 21, 11]\n",
        "\n",
        "for num in nums:\n",
        "  if num > 5:\n",
        "    print(num)"
      ],
      "metadata": {
        "colab": {
          "base_uri": "https://localhost:8080/"
        },
        "id": "59sJXvIOF4Ty",
        "outputId": "d29a2f58-d5b1-427a-c654-c14ef48f542f"
      },
      "execution_count": 41,
      "outputs": [
        {
          "output_type": "stream",
          "name": "stdout",
          "text": [
            "8\n",
            "10\n",
            "11\n",
            "20\n",
            "21\n",
            "11\n"
          ]
        }
      ]
    },
    {
      "cell_type": "code",
      "source": [
        "# 48. Create a list of numbers from 1 to 10 using a for loop.\n",
        "\n",
        "l = []\n",
        "\n",
        "for i in range(1, 11):\n",
        "  l.append(i)\n",
        "l"
      ],
      "metadata": {
        "colab": {
          "base_uri": "https://localhost:8080/"
        },
        "id": "6xDiv8sGGHqz",
        "outputId": "31b74f28-eb99-4a76-81c5-791b0f13117e"
      },
      "execution_count": 42,
      "outputs": [
        {
          "output_type": "execute_result",
          "data": {
            "text/plain": [
              "[1, 2, 3, 4, 5, 6, 7, 8, 9, 10]"
            ]
          },
          "metadata": {},
          "execution_count": 42
        }
      ]
    },
    {
      "cell_type": "code",
      "source": [
        "# 49. Iterate through a list of numbers and print only the odd ones.\n",
        "\n",
        "for i in l:\n",
        "  if i%2 != 0:\n",
        "    print(i)"
      ],
      "metadata": {
        "colab": {
          "base_uri": "https://localhost:8080/"
        },
        "id": "pI9-h4hPGdhf",
        "outputId": "bc9cce8f-2550-4a61-c95c-6626275109be"
      },
      "execution_count": 43,
      "outputs": [
        {
          "output_type": "stream",
          "name": "stdout",
          "text": [
            "1\n",
            "3\n",
            "5\n",
            "7\n",
            "9\n"
          ]
        }
      ]
    },
    {
      "cell_type": "code",
      "source": [
        "# 50. Print the multiplication table of a given number.\n",
        "\n",
        "num = int(input(\"Enter a number: \"))\n",
        "\n",
        "print(f\"Multiplication table of {num}:\")\n",
        "for i in range(1, 11):\n",
        "    print(f\"{num} x {i} = {num * i}\")"
      ],
      "metadata": {
        "colab": {
          "base_uri": "https://localhost:8080/"
        },
        "id": "MdtwiAFmGmam",
        "outputId": "1c650768-ab4c-47b6-cb00-8b8ddd158ead"
      },
      "execution_count": 44,
      "outputs": [
        {
          "output_type": "stream",
          "name": "stdout",
          "text": [
            "Enter a number: 34\n",
            "Multiplication table of 34:\n",
            "34 x 1 = 34\n",
            "34 x 2 = 68\n",
            "34 x 3 = 102\n",
            "34 x 4 = 136\n",
            "34 x 5 = 170\n",
            "34 x 6 = 204\n",
            "34 x 7 = 238\n",
            "34 x 8 = 272\n",
            "34 x 9 = 306\n",
            "34 x 10 = 340\n"
          ]
        }
      ]
    },
    {
      "cell_type": "code",
      "source": [
        "# 51. Print numbers from 1 to 10 using a while loop.\n",
        "# 52. Use a while loop to print only even numbers up to 20.\n",
        "# 53. Use a while loop to print the squares of numbers from 1 to 5.\n",
        "# 54. Print each character of a string using a while loop.\n",
        "# 55. Print numbers from 10 down to 1 using a while loop.\n",
        "# 56. Sum all even numbers between 1 and 50 using a while loop.\n",
        "# 57. Use a while loop to print every third number up to 30.\n",
        "# 58. Print numbers in reverse order from a given number down to 1.\n",
        "# 59. Find the factorial of a number using a while loop.\n",
        "# 60. Print the Fibonacci sequence up to a given number using a while loop."
      ],
      "metadata": {
        "id": "iSNAQv3tHGIh"
      },
      "execution_count": 45,
      "outputs": []
    },
    {
      "cell_type": "code",
      "source": [
        "# 51. Print numbers from 1 to 10 using a while loop.\n",
        "\n",
        "i = 1\n",
        "\n",
        "while i < 11:\n",
        "  print(i)\n",
        "  i += 1"
      ],
      "metadata": {
        "colab": {
          "base_uri": "https://localhost:8080/"
        },
        "id": "8zWSxVM9H-6P",
        "outputId": "12501582-7489-40ed-d398-7fc875cd5cfa"
      },
      "execution_count": 46,
      "outputs": [
        {
          "output_type": "stream",
          "name": "stdout",
          "text": [
            "1\n",
            "2\n",
            "3\n",
            "4\n",
            "5\n",
            "6\n",
            "7\n",
            "8\n",
            "9\n",
            "10\n"
          ]
        }
      ]
    },
    {
      "cell_type": "code",
      "source": [
        "# 52. Use a while loop to print only even numbers up to 20.\n",
        "\n",
        "i = 1\n",
        "\n",
        "while i<21:\n",
        "  if i%2 == 0:\n",
        "    print(i)\n",
        "\n",
        "  i += 1"
      ],
      "metadata": {
        "colab": {
          "base_uri": "https://localhost:8080/"
        },
        "id": "DPPS-oO9I5UE",
        "outputId": "1e7e869f-006f-4bc7-e492-ddfef389f470"
      },
      "execution_count": 47,
      "outputs": [
        {
          "output_type": "stream",
          "name": "stdout",
          "text": [
            "2\n",
            "4\n",
            "6\n",
            "8\n",
            "10\n",
            "12\n",
            "14\n",
            "16\n",
            "18\n",
            "20\n"
          ]
        }
      ]
    },
    {
      "cell_type": "code",
      "source": [
        "# 53. Use a while loop to print the squares of numbers from 1 to 5.\n",
        "\n",
        "i = 1\n",
        "\n",
        "while i < 6:\n",
        "  print(i**2)\n",
        "  i += 1"
      ],
      "metadata": {
        "colab": {
          "base_uri": "https://localhost:8080/"
        },
        "id": "4H7YXuv3Jc65",
        "outputId": "b554e215-8364-4343-a97c-f04de79bb666"
      },
      "execution_count": 48,
      "outputs": [
        {
          "output_type": "stream",
          "name": "stdout",
          "text": [
            "1\n",
            "4\n",
            "9\n",
            "16\n",
            "25\n"
          ]
        }
      ]
    },
    {
      "cell_type": "code",
      "source": [
        "# 54. Print each character of a string using a while loop.\n",
        "\n",
        "s = \"yuyuooj\"\n",
        "i = 0\n",
        "while i < len(s):\n",
        "  print(s[i])\n",
        "  i += 1"
      ],
      "metadata": {
        "colab": {
          "base_uri": "https://localhost:8080/"
        },
        "id": "4hrUADNvJrvG",
        "outputId": "6dc780b8-1190-4a67-8a2f-373eaf65b854"
      },
      "execution_count": 49,
      "outputs": [
        {
          "output_type": "stream",
          "name": "stdout",
          "text": [
            "y\n",
            "u\n",
            "y\n",
            "u\n",
            "o\n",
            "o\n",
            "j\n"
          ]
        }
      ]
    },
    {
      "cell_type": "code",
      "source": [
        "# 55. Print numbers from 10 down to 1 using a while loop.\n",
        "\n",
        "i = 10\n",
        "\n",
        "while i > 0:\n",
        "  print(i)\n",
        "  i -= 1"
      ],
      "metadata": {
        "colab": {
          "base_uri": "https://localhost:8080/"
        },
        "id": "-bE-slT4KLzK",
        "outputId": "30fb9077-af50-4ad0-9702-14dceeabd7e1"
      },
      "execution_count": 50,
      "outputs": [
        {
          "output_type": "stream",
          "name": "stdout",
          "text": [
            "10\n",
            "9\n",
            "8\n",
            "7\n",
            "6\n",
            "5\n",
            "4\n",
            "3\n",
            "2\n",
            "1\n"
          ]
        }
      ]
    },
    {
      "cell_type": "code",
      "source": [
        "# 56. Sum all even numbers between 1 and 50 using a while loop.\n",
        "\n",
        "i = 1\n",
        "sum = 0\n",
        "\n",
        "while i < 51:\n",
        "  if i%2 == 0:\n",
        "    sum += i\n",
        "    print(sum)\n",
        "  i += 1\n",
        "\n",
        "print(sum)"
      ],
      "metadata": {
        "colab": {
          "base_uri": "https://localhost:8080/"
        },
        "id": "0qAXw4HcKdQP",
        "outputId": "85ad2c1f-8247-4b0e-fb36-0ca2f4777c8b"
      },
      "execution_count": 51,
      "outputs": [
        {
          "output_type": "stream",
          "name": "stdout",
          "text": [
            "2\n",
            "6\n",
            "12\n",
            "20\n",
            "30\n",
            "42\n",
            "56\n",
            "72\n",
            "90\n",
            "110\n",
            "132\n",
            "156\n",
            "182\n",
            "210\n",
            "240\n",
            "272\n",
            "306\n",
            "342\n",
            "380\n",
            "420\n",
            "462\n",
            "506\n",
            "552\n",
            "600\n",
            "650\n",
            "650\n"
          ]
        }
      ]
    },
    {
      "cell_type": "code",
      "source": [
        "# 57. Use a while loop to print every third number up to 30.\n",
        "\n",
        "i = 1\n",
        "\n",
        "while i < 31:\n",
        "  print(i)\n",
        "  i += 3"
      ],
      "metadata": {
        "colab": {
          "base_uri": "https://localhost:8080/"
        },
        "id": "DACuOODJK4pE",
        "outputId": "0aea48c9-ffd1-4565-a17b-0da321fce9ff"
      },
      "execution_count": 52,
      "outputs": [
        {
          "output_type": "stream",
          "name": "stdout",
          "text": [
            "1\n",
            "4\n",
            "7\n",
            "10\n",
            "13\n",
            "16\n",
            "19\n",
            "22\n",
            "25\n",
            "28\n"
          ]
        }
      ]
    },
    {
      "cell_type": "code",
      "source": [
        "# 58. Print numbers in reverse order from a given number down to 1.\n",
        "\n",
        "i = 200\n",
        "\n",
        "while i > 0:\n",
        "  print(i)\n",
        "  i -= 1"
      ],
      "metadata": {
        "colab": {
          "base_uri": "https://localhost:8080/"
        },
        "id": "z8cQs6bWMCHi",
        "outputId": "ca61e6c4-3485-4b32-c39b-3be5fd507f9d"
      },
      "execution_count": 53,
      "outputs": [
        {
          "output_type": "stream",
          "name": "stdout",
          "text": [
            "200\n",
            "199\n",
            "198\n",
            "197\n",
            "196\n",
            "195\n",
            "194\n",
            "193\n",
            "192\n",
            "191\n",
            "190\n",
            "189\n",
            "188\n",
            "187\n",
            "186\n",
            "185\n",
            "184\n",
            "183\n",
            "182\n",
            "181\n",
            "180\n",
            "179\n",
            "178\n",
            "177\n",
            "176\n",
            "175\n",
            "174\n",
            "173\n",
            "172\n",
            "171\n",
            "170\n",
            "169\n",
            "168\n",
            "167\n",
            "166\n",
            "165\n",
            "164\n",
            "163\n",
            "162\n",
            "161\n",
            "160\n",
            "159\n",
            "158\n",
            "157\n",
            "156\n",
            "155\n",
            "154\n",
            "153\n",
            "152\n",
            "151\n",
            "150\n",
            "149\n",
            "148\n",
            "147\n",
            "146\n",
            "145\n",
            "144\n",
            "143\n",
            "142\n",
            "141\n",
            "140\n",
            "139\n",
            "138\n",
            "137\n",
            "136\n",
            "135\n",
            "134\n",
            "133\n",
            "132\n",
            "131\n",
            "130\n",
            "129\n",
            "128\n",
            "127\n",
            "126\n",
            "125\n",
            "124\n",
            "123\n",
            "122\n",
            "121\n",
            "120\n",
            "119\n",
            "118\n",
            "117\n",
            "116\n",
            "115\n",
            "114\n",
            "113\n",
            "112\n",
            "111\n",
            "110\n",
            "109\n",
            "108\n",
            "107\n",
            "106\n",
            "105\n",
            "104\n",
            "103\n",
            "102\n",
            "101\n",
            "100\n",
            "99\n",
            "98\n",
            "97\n",
            "96\n",
            "95\n",
            "94\n",
            "93\n",
            "92\n",
            "91\n",
            "90\n",
            "89\n",
            "88\n",
            "87\n",
            "86\n",
            "85\n",
            "84\n",
            "83\n",
            "82\n",
            "81\n",
            "80\n",
            "79\n",
            "78\n",
            "77\n",
            "76\n",
            "75\n",
            "74\n",
            "73\n",
            "72\n",
            "71\n",
            "70\n",
            "69\n",
            "68\n",
            "67\n",
            "66\n",
            "65\n",
            "64\n",
            "63\n",
            "62\n",
            "61\n",
            "60\n",
            "59\n",
            "58\n",
            "57\n",
            "56\n",
            "55\n",
            "54\n",
            "53\n",
            "52\n",
            "51\n",
            "50\n",
            "49\n",
            "48\n",
            "47\n",
            "46\n",
            "45\n",
            "44\n",
            "43\n",
            "42\n",
            "41\n",
            "40\n",
            "39\n",
            "38\n",
            "37\n",
            "36\n",
            "35\n",
            "34\n",
            "33\n",
            "32\n",
            "31\n",
            "30\n",
            "29\n",
            "28\n",
            "27\n",
            "26\n",
            "25\n",
            "24\n",
            "23\n",
            "22\n",
            "21\n",
            "20\n",
            "19\n",
            "18\n",
            "17\n",
            "16\n",
            "15\n",
            "14\n",
            "13\n",
            "12\n",
            "11\n",
            "10\n",
            "9\n",
            "8\n",
            "7\n",
            "6\n",
            "5\n",
            "4\n",
            "3\n",
            "2\n",
            "1\n"
          ]
        }
      ]
    },
    {
      "cell_type": "code",
      "source": [
        "# 59. Find the factorial of a number using a while loop.\n",
        "\n",
        "a = int(input('Enter a number: '))\n",
        "fact = 1\n",
        "i = 1\n",
        "\n",
        "while i<=a:\n",
        "  fact *= i\n",
        "  i += 1\n",
        "print(f\"Factorial of {a} is {fact}\")"
      ],
      "metadata": {
        "colab": {
          "base_uri": "https://localhost:8080/"
        },
        "id": "gTFnvZTJMTBS",
        "outputId": "d01b77fb-3bcc-4022-bc05-8aee4d74baa6"
      },
      "execution_count": 54,
      "outputs": [
        {
          "output_type": "stream",
          "name": "stdout",
          "text": [
            "Enter a number: 33\n",
            "Factorial of 33 is 8683317618811886495518194401280000000\n"
          ]
        }
      ]
    },
    {
      "cell_type": "code",
      "source": [
        "# 60. Print the Fibonacci sequence up to a given number using a while loop.\n",
        "\n",
        "limit = int(input(\"Enter the limit for the Fibonacci sequence: \"))\n",
        "\n",
        "a, b = 0, 1\n",
        "print(\"Fibonacci sequence:\")\n",
        "while a <= limit:\n",
        "    print(a, end=\" \")\n",
        "    a, b = b, a + b"
      ],
      "metadata": {
        "colab": {
          "base_uri": "https://localhost:8080/"
        },
        "id": "NUcvDJBIMaIl",
        "outputId": "d45984f0-6a70-4429-ca38-f6559d02e790"
      },
      "execution_count": 55,
      "outputs": [
        {
          "output_type": "stream",
          "name": "stdout",
          "text": [
            "Enter the limit for the Fibonacci sequence: 45654\n",
            "Fibonacci sequence:\n",
            "0 1 1 2 3 5 8 13 21 34 55 89 144 233 377 610 987 1597 2584 4181 6765 10946 17711 28657 "
          ]
        }
      ]
    },
    {
      "cell_type": "code",
      "source": [
        "# 61. Print a 3x3 grid of asterisks.\n",
        "# 62. Print a multiplication table from 1 to 5.\n",
        "# 63. Create a pattern of increasing numbers (e.g., 1, 12, 123).\n",
        "# 64. Generate a pattern of decreasing numbers (e.g., 123, 12, 1).\n",
        "# 65. Print a triangle of numbers.\n",
        "# 66. Print all pairs of numbers from 1 to 3.\n",
        "# 67. Create a pattern of stars in the shape of a pyramid.\n",
        "# 68. Print a square of numbers using nested loops.\n",
        "# 69. Create a pattern of alternating ones and zeros.\n",
        "# 70. Print all unique pairs of elements in a list."
      ],
      "metadata": {
        "id": "3Kmiv7QLNf7M"
      },
      "execution_count": 56,
      "outputs": []
    },
    {
      "cell_type": "code",
      "source": [
        "# 61. Print a 3x3 grid of asterisks\n",
        "\n",
        "for i in range(3):\n",
        "  print(f\"{'*' * 3}\")"
      ],
      "metadata": {
        "colab": {
          "base_uri": "https://localhost:8080/"
        },
        "id": "p2RUAFkjy7Y5",
        "outputId": "d8c794bb-f4fd-4d20-d20e-f73c0a336db6"
      },
      "execution_count": 57,
      "outputs": [
        {
          "output_type": "stream",
          "name": "stdout",
          "text": [
            "***\n",
            "***\n",
            "***\n"
          ]
        }
      ]
    },
    {
      "cell_type": "code",
      "source": [
        "# 62. Print a multiplication table from 1 to 5.\n",
        "\n",
        "for i in range(1, 6):\n",
        "  for j in range(1, 6):\n",
        "    print(f\"{i} * {j} = {i * j}\", end = \"\\t\")\n",
        "  print()"
      ],
      "metadata": {
        "colab": {
          "base_uri": "https://localhost:8080/"
        },
        "id": "Wty1ELD_zGaB",
        "outputId": "ada74471-f5a7-4bf5-dfe0-f520cde1596c"
      },
      "execution_count": 58,
      "outputs": [
        {
          "output_type": "stream",
          "name": "stdout",
          "text": [
            "1 * 1 = 1\t1 * 2 = 2\t1 * 3 = 3\t1 * 4 = 4\t1 * 5 = 5\t\n",
            "2 * 1 = 2\t2 * 2 = 4\t2 * 3 = 6\t2 * 4 = 8\t2 * 5 = 10\t\n",
            "3 * 1 = 3\t3 * 2 = 6\t3 * 3 = 9\t3 * 4 = 12\t3 * 5 = 15\t\n",
            "4 * 1 = 4\t4 * 2 = 8\t4 * 3 = 12\t4 * 4 = 16\t4 * 5 = 20\t\n",
            "5 * 1 = 5\t5 * 2 = 10\t5 * 3 = 15\t5 * 4 = 20\t5 * 5 = 25\t\n"
          ]
        }
      ]
    },
    {
      "cell_type": "code",
      "source": [
        "# 63. Create a pattern of increasing numbers (e.g., 1, 12, 123).\n",
        "\n",
        "for i in range(1, 4):\n",
        "  for j in range(1, i+1):\n",
        "    print(j, end = \"\")\n",
        "  print()"
      ],
      "metadata": {
        "colab": {
          "base_uri": "https://localhost:8080/"
        },
        "id": "2ans9J2TzvQR",
        "outputId": "028377f8-3526-489f-afc6-d5d6d1f06620"
      },
      "execution_count": 59,
      "outputs": [
        {
          "output_type": "stream",
          "name": "stdout",
          "text": [
            "1\n",
            "12\n",
            "123\n"
          ]
        }
      ]
    },
    {
      "cell_type": "code",
      "source": [
        "# i=1, j=(1, 2) ->1\n",
        "# i=2, j=(1, 3) ->12\n",
        "# i=3, j=(1, 4) ->123"
      ],
      "metadata": {
        "id": "96W5hmMR0SHw"
      },
      "execution_count": 60,
      "outputs": []
    },
    {
      "cell_type": "code",
      "source": [
        "# 64. Generate a pattern of decreasing numbers (e.g., 123, 12, 1).\n",
        "\n",
        "for i in range(3, 0, -1):\n",
        "  for j in range(1, i+1):\n",
        "    print(j, end=\"\")\n",
        "  print()"
      ],
      "metadata": {
        "colab": {
          "base_uri": "https://localhost:8080/"
        },
        "id": "S8MUNeXS2JDQ",
        "outputId": "ab15af78-3113-4acb-e560-91420a449ce2"
      },
      "execution_count": 61,
      "outputs": [
        {
          "output_type": "stream",
          "name": "stdout",
          "text": [
            "123\n",
            "12\n",
            "1\n"
          ]
        }
      ]
    },
    {
      "cell_type": "code",
      "source": [
        "# 65. Print a triangle of numbers.\n",
        "\n",
        "n = 10\n",
        "\n",
        "for i in range(1, n+1):\n",
        "  print(\" \" * (n-i)+\" \".join(str(x) for x in range(1, i+1)))"
      ],
      "metadata": {
        "colab": {
          "base_uri": "https://localhost:8080/"
        },
        "id": "JS054x0d2aUH",
        "outputId": "b7e21884-efb1-47ac-e785-9dbe28a8f14c"
      },
      "execution_count": 62,
      "outputs": [
        {
          "output_type": "stream",
          "name": "stdout",
          "text": [
            "         1\n",
            "        1 2\n",
            "       1 2 3\n",
            "      1 2 3 4\n",
            "     1 2 3 4 5\n",
            "    1 2 3 4 5 6\n",
            "   1 2 3 4 5 6 7\n",
            "  1 2 3 4 5 6 7 8\n",
            " 1 2 3 4 5 6 7 8 9\n",
            "1 2 3 4 5 6 7 8 9 10\n"
          ]
        }
      ]
    },
    {
      "cell_type": "code",
      "source": [
        "# 66. Print all pairs of numbers from 1 to 3.\n",
        "\n",
        "for i in range(1, 4):\n",
        "  for j in range(1, 4):\n",
        "    print(f\"({i}, {j})\")"
      ],
      "metadata": {
        "colab": {
          "base_uri": "https://localhost:8080/"
        },
        "id": "Mn4CCIHU3Y8G",
        "outputId": "4c83291e-714e-42df-cc03-65587b0723bf"
      },
      "execution_count": 63,
      "outputs": [
        {
          "output_type": "stream",
          "name": "stdout",
          "text": [
            "(1, 1)\n",
            "(1, 2)\n",
            "(1, 3)\n",
            "(2, 1)\n",
            "(2, 2)\n",
            "(2, 3)\n",
            "(3, 1)\n",
            "(3, 2)\n",
            "(3, 3)\n"
          ]
        }
      ]
    },
    {
      "cell_type": "code",
      "source": [
        "# 67. Create a pattern of stars in the shape of a pyramid.\n",
        "\n",
        "rows = 10\n",
        "\n",
        "for i in range(1, rows+1):\n",
        "  print(\" \" * (rows - i) + \"* \" * i)"
      ],
      "metadata": {
        "colab": {
          "base_uri": "https://localhost:8080/"
        },
        "id": "cI4OOBKt3z-d",
        "outputId": "d4d4e97b-43dc-4a86-a0c2-46027f428e2d"
      },
      "execution_count": 64,
      "outputs": [
        {
          "output_type": "stream",
          "name": "stdout",
          "text": [
            "         * \n",
            "        * * \n",
            "       * * * \n",
            "      * * * * \n",
            "     * * * * * \n",
            "    * * * * * * \n",
            "   * * * * * * * \n",
            "  * * * * * * * * \n",
            " * * * * * * * * * \n",
            "* * * * * * * * * * \n"
          ]
        }
      ]
    },
    {
      "cell_type": "code",
      "source": [
        "# 68. Print a square of numbers using nested loops.\n",
        "\n",
        "n = 4\n",
        "for i in range(1, n + 1):\n",
        "  for j in range(1, n + 1):\n",
        "    print(j, end=\" \")\n",
        "  print()"
      ],
      "metadata": {
        "colab": {
          "base_uri": "https://localhost:8080/"
        },
        "id": "7H3M-z_34Vcm",
        "outputId": "2d0781b6-796e-4943-d7ee-f07ee389ace2"
      },
      "execution_count": 65,
      "outputs": [
        {
          "output_type": "stream",
          "name": "stdout",
          "text": [
            "1 2 3 4 \n",
            "1 2 3 4 \n",
            "1 2 3 4 \n",
            "1 2 3 4 \n"
          ]
        }
      ]
    },
    {
      "cell_type": "code",
      "source": [
        "# 69. Create a pattern of alternating ones and zeros.\n",
        "\n",
        "rows = 8\n",
        "\n",
        "for i in range(rows):\n",
        "  for j in range(rows):\n",
        "    print((i + j) % 2, end=\"\")\n",
        "  print()"
      ],
      "metadata": {
        "colab": {
          "base_uri": "https://localhost:8080/"
        },
        "id": "AEPrg2ne4nfV",
        "outputId": "1da57638-b18c-4286-b0ab-dcd8ce4a28d2"
      },
      "execution_count": 66,
      "outputs": [
        {
          "output_type": "stream",
          "name": "stdout",
          "text": [
            "01010101\n",
            "10101010\n",
            "01010101\n",
            "10101010\n",
            "01010101\n",
            "10101010\n",
            "01010101\n",
            "10101010\n"
          ]
        }
      ]
    },
    {
      "cell_type": "code",
      "source": [
        "# 70. Print all unique pairs of elements in a list\n",
        "\n",
        "elements = [1, 2, 3]\n",
        "for i in range(len(elements)):\n",
        "  for j in range(i + 1, len(elements)):\n",
        "    print(f\"({elements[i]}, {elements[j]})\")"
      ],
      "metadata": {
        "colab": {
          "base_uri": "https://localhost:8080/"
        },
        "id": "1QmVPV5z5POk",
        "outputId": "365992c5-bed2-4a3a-aef6-f91140599f2f"
      },
      "execution_count": 67,
      "outputs": [
        {
          "output_type": "stream",
          "name": "stdout",
          "text": [
            "(1, 2)\n",
            "(1, 3)\n",
            "(2, 3)\n"
          ]
        }
      ]
    },
    {
      "cell_type": "code",
      "source": [
        "# 71. Print a 4x4 grid of numbers.\n",
        "# 72. Use nested while loops to print a triangle of stars.\n",
        "# 73. Print multiplication tables for numbers from 1 to 5 using nested while loops.\n",
        "# 74. Use nested while loops to create a pattern of increasing stars.\n",
        "# 75. Create a pattern of stars in a diamond shape.\n",
        "\n",
        "# 76. Generate all possible combinations of two letters.\n",
        "# 77. Use nested while loops to print a right-aligned triangle of numbers.\n",
        "# 78. Print a pattern of numbers with decreasing values on each line.\n",
        "# 79. Create a multiplication grid from 1 to 3.\n",
        "# 80. Generate all possible pairs of numbers from 1 to 4."
      ],
      "metadata": {
        "id": "VciFtYpv5hV8"
      },
      "execution_count": 68,
      "outputs": []
    },
    {
      "cell_type": "code",
      "source": [
        "# 71. Print a 4x4 grid of numbers.\n",
        "\n",
        "for i in range(4):\n",
        "    for j in range(4):\n",
        "        print(j + 1, end=\" \")\n",
        "    print()"
      ],
      "metadata": {
        "colab": {
          "base_uri": "https://localhost:8080/"
        },
        "id": "aD3-1E9Z576W",
        "outputId": "a3efe8d7-82b2-4e44-a4e5-e68a9076d80a"
      },
      "execution_count": 69,
      "outputs": [
        {
          "output_type": "stream",
          "name": "stdout",
          "text": [
            "1 2 3 4 \n",
            "1 2 3 4 \n",
            "1 2 3 4 \n",
            "1 2 3 4 \n"
          ]
        }
      ]
    },
    {
      "cell_type": "code",
      "source": [
        "# 72. Use nested while loops to print a triangle of stars.\n",
        "\n",
        "rows = 5\n",
        "i = 1\n",
        "while i <= rows:\n",
        "    j = 1\n",
        "    while j <= i:\n",
        "        print(\"*\", end=\" \")\n",
        "        j += 1\n",
        "    print()\n",
        "    i += 1"
      ],
      "metadata": {
        "colab": {
          "base_uri": "https://localhost:8080/"
        },
        "id": "4rsgg1xC6Ri8",
        "outputId": "605bc16f-bdbf-4468-8f9a-86f3c8a04e06"
      },
      "execution_count": 70,
      "outputs": [
        {
          "output_type": "stream",
          "name": "stdout",
          "text": [
            "* \n",
            "* * \n",
            "* * * \n",
            "* * * * \n",
            "* * * * * \n"
          ]
        }
      ]
    },
    {
      "cell_type": "code",
      "source": [
        "# 73. Print multiplication tables for numbers from 1 to 5 using nested while loops\n",
        "\n",
        "num = 1\n",
        "while num <= 5:\n",
        "    print(f\"Multiplication table for {num}:\")\n",
        "    i = 1\n",
        "    while i <= 10:\n",
        "        print(f\"{num} x {i} = {num * i}\")\n",
        "        i += 1\n",
        "    print()\n",
        "    num += 1"
      ],
      "metadata": {
        "colab": {
          "base_uri": "https://localhost:8080/"
        },
        "id": "PYwQpFiK6X7z",
        "outputId": "91c57cba-2e2f-4261-9145-4ebc08d87b7b"
      },
      "execution_count": 71,
      "outputs": [
        {
          "output_type": "stream",
          "name": "stdout",
          "text": [
            "Multiplication table for 1:\n",
            "1 x 1 = 1\n",
            "1 x 2 = 2\n",
            "1 x 3 = 3\n",
            "1 x 4 = 4\n",
            "1 x 5 = 5\n",
            "1 x 6 = 6\n",
            "1 x 7 = 7\n",
            "1 x 8 = 8\n",
            "1 x 9 = 9\n",
            "1 x 10 = 10\n",
            "\n",
            "Multiplication table for 2:\n",
            "2 x 1 = 2\n",
            "2 x 2 = 4\n",
            "2 x 3 = 6\n",
            "2 x 4 = 8\n",
            "2 x 5 = 10\n",
            "2 x 6 = 12\n",
            "2 x 7 = 14\n",
            "2 x 8 = 16\n",
            "2 x 9 = 18\n",
            "2 x 10 = 20\n",
            "\n",
            "Multiplication table for 3:\n",
            "3 x 1 = 3\n",
            "3 x 2 = 6\n",
            "3 x 3 = 9\n",
            "3 x 4 = 12\n",
            "3 x 5 = 15\n",
            "3 x 6 = 18\n",
            "3 x 7 = 21\n",
            "3 x 8 = 24\n",
            "3 x 9 = 27\n",
            "3 x 10 = 30\n",
            "\n",
            "Multiplication table for 4:\n",
            "4 x 1 = 4\n",
            "4 x 2 = 8\n",
            "4 x 3 = 12\n",
            "4 x 4 = 16\n",
            "4 x 5 = 20\n",
            "4 x 6 = 24\n",
            "4 x 7 = 28\n",
            "4 x 8 = 32\n",
            "4 x 9 = 36\n",
            "4 x 10 = 40\n",
            "\n",
            "Multiplication table for 5:\n",
            "5 x 1 = 5\n",
            "5 x 2 = 10\n",
            "5 x 3 = 15\n",
            "5 x 4 = 20\n",
            "5 x 5 = 25\n",
            "5 x 6 = 30\n",
            "5 x 7 = 35\n",
            "5 x 8 = 40\n",
            "5 x 9 = 45\n",
            "5 x 10 = 50\n",
            "\n"
          ]
        }
      ]
    },
    {
      "cell_type": "code",
      "source": [
        "# 74. Use nested while loops to create a pattern of increasing stars\n",
        "\n",
        "rows = 5\n",
        "i = 1\n",
        "while i <= rows:\n",
        "    j = 1\n",
        "    while j <= i:\n",
        "        print(\"*\", end=\"\")\n",
        "        j += 1\n",
        "    print()\n",
        "    i += 1"
      ],
      "metadata": {
        "colab": {
          "base_uri": "https://localhost:8080/"
        },
        "id": "g0a9Ak826c40",
        "outputId": "fed1da84-06d7-49bc-a0f9-af8a53754df4"
      },
      "execution_count": 72,
      "outputs": [
        {
          "output_type": "stream",
          "name": "stdout",
          "text": [
            "*\n",
            "**\n",
            "***\n",
            "****\n",
            "*****\n"
          ]
        }
      ]
    },
    {
      "cell_type": "code",
      "source": [
        "# 75. Create a pattern of stars in a diamond shape\n",
        "\n",
        "rows = 5\n",
        "for i in range(1, rows + 1):\n",
        "    print(\" \" * (rows - i) + \"* \" * i)\n",
        "for i in range(rows - 1, 0, -1):\n",
        "    print(\" \" * (rows - i) + \"* \" * i)"
      ],
      "metadata": {
        "colab": {
          "base_uri": "https://localhost:8080/"
        },
        "id": "OqfNEl9q6gzb",
        "outputId": "8a4cc51f-fb14-44e3-ce30-9f0fe1def990"
      },
      "execution_count": 73,
      "outputs": [
        {
          "output_type": "stream",
          "name": "stdout",
          "text": [
            "    * \n",
            "   * * \n",
            "  * * * \n",
            " * * * * \n",
            "* * * * * \n",
            " * * * * \n",
            "  * * * \n",
            "   * * \n",
            "    * \n"
          ]
        }
      ]
    },
    {
      "cell_type": "code",
      "source": [
        "# 76. Generate all possible combinations of two letters\n",
        "\n",
        "letters = \"ABCD\"\n",
        "for i in range(len(letters)):\n",
        "    for j in range(len(letters)):\n",
        "        if i != j:\n",
        "            print(letters[i] + letters[j])"
      ],
      "metadata": {
        "colab": {
          "base_uri": "https://localhost:8080/"
        },
        "id": "rMgTxUiW6msj",
        "outputId": "0806fbf1-ab47-4abd-a627-5a7b53df947d"
      },
      "execution_count": 74,
      "outputs": [
        {
          "output_type": "stream",
          "name": "stdout",
          "text": [
            "AB\n",
            "AC\n",
            "AD\n",
            "BA\n",
            "BC\n",
            "BD\n",
            "CA\n",
            "CB\n",
            "CD\n",
            "DA\n",
            "DB\n",
            "DC\n"
          ]
        }
      ]
    },
    {
      "cell_type": "code",
      "source": [
        "# 77. Use nested while loops to print a right-aligned triangle of numbers\n",
        "\n",
        "rows = 5\n",
        "i = 1\n",
        "while i <= rows:\n",
        "    print(\" \" * (rows - i), end=\"\")\n",
        "    j = 1\n",
        "    while j <= i:\n",
        "        print(j, end=\"\")\n",
        "        j += 1\n",
        "    print()\n",
        "    i += 1"
      ],
      "metadata": {
        "colab": {
          "base_uri": "https://localhost:8080/"
        },
        "id": "c6VNescG6rbD",
        "outputId": "f130fc41-9860-45c8-f148-655f2d4b7119"
      },
      "execution_count": 75,
      "outputs": [
        {
          "output_type": "stream",
          "name": "stdout",
          "text": [
            "    1\n",
            "   12\n",
            "  123\n",
            " 1234\n",
            "12345\n"
          ]
        }
      ]
    },
    {
      "cell_type": "code",
      "source": [
        "# 78. Print a pattern of numbers with decreasing values on each line\n",
        "\n",
        "rows = 5\n",
        "for i in range(rows, 0, -1):\n",
        "    for j in range(1, i + 1):\n",
        "        print(j, end=\" \")\n",
        "    print()"
      ],
      "metadata": {
        "colab": {
          "base_uri": "https://localhost:8080/"
        },
        "id": "lwGrZ4Yc6x6j",
        "outputId": "cf35d599-08b0-457d-bde3-3d5f5488b315"
      },
      "execution_count": 76,
      "outputs": [
        {
          "output_type": "stream",
          "name": "stdout",
          "text": [
            "1 2 3 4 5 \n",
            "1 2 3 4 \n",
            "1 2 3 \n",
            "1 2 \n",
            "1 \n"
          ]
        }
      ]
    },
    {
      "cell_type": "code",
      "source": [
        "# 79. Create a multiplication grid from 1 to 3\n",
        "\n",
        "for i in range(1, 4):\n",
        "    for j in range(1, 4):\n",
        "        print(f\"{i * j}\", end=\"\\t\")\n",
        "    print()"
      ],
      "metadata": {
        "colab": {
          "base_uri": "https://localhost:8080/"
        },
        "id": "e0CCWXNc63oT",
        "outputId": "d44ba588-1cbe-4bf0-8355-b166805f35b3"
      },
      "execution_count": 77,
      "outputs": [
        {
          "output_type": "stream",
          "name": "stdout",
          "text": [
            "1\t2\t3\t\n",
            "2\t4\t6\t\n",
            "3\t6\t9\t\n"
          ]
        }
      ]
    },
    {
      "cell_type": "code",
      "source": [
        "# 80. Generate all possible pairs of numbers from 1 to 4\n",
        "\n",
        "for i in range(1, 5):\n",
        "  for j in range(i+1, 5):\n",
        "    print(f\"({i},{j})\")"
      ],
      "metadata": {
        "colab": {
          "base_uri": "https://localhost:8080/"
        },
        "id": "pbsOVV7K68Or",
        "outputId": "7176d719-63ef-4cf1-83b5-950118cf5ab4"
      },
      "execution_count": 78,
      "outputs": [
        {
          "output_type": "stream",
          "name": "stdout",
          "text": [
            "(1,2)\n",
            "(1,3)\n",
            "(1,4)\n",
            "(2,3)\n",
            "(2,4)\n",
            "(3,4)\n"
          ]
        }
      ]
    },
    {
      "cell_type": "code",
      "source": [
        "# 81. Define a function that prints \"Hello, World!\"\n",
        "# 82. Write a function that takes a name as input and prints a greeting.\n",
        "# 83. Define a function to calculate the square of a number.\n",
        "# 84. Write a function to check if a number is even.\n",
        "# 85. Create a function to calculate the area of a circle.\n",
        "# 86. Define a function that returns the maximum of two numbers.\n",
        "# 87. Write a function to find the minimum of three numbers.\n",
        "# 88. Define a function to return the absolute value of a number.\n",
        "# 89. Write a function to convert Celsius to Fahrenheit.\n",
        "# 90. Create a function to calculate the factorial of a number."
      ],
      "metadata": {
        "id": "-dlo1ytF7dj7"
      },
      "execution_count": 79,
      "outputs": []
    },
    {
      "cell_type": "code",
      "source": [
        "# 81. Define a function that prints \"Hello, World!\"\n",
        "\n",
        "def funct():\n",
        "  print(\"Hello World!\")\n",
        "\n",
        "funct()"
      ],
      "metadata": {
        "colab": {
          "base_uri": "https://localhost:8080/"
        },
        "id": "PCFSC5NIpxUQ",
        "outputId": "2a7efd42-da51-42e9-a959-5a3bbbb73aae"
      },
      "execution_count": 80,
      "outputs": [
        {
          "output_type": "stream",
          "name": "stdout",
          "text": [
            "Hello World!\n"
          ]
        }
      ]
    },
    {
      "cell_type": "code",
      "source": [
        "# 82. Write a function that takes a name as input and prints a greeting.\n",
        "\n",
        "def funct_g(name):\n",
        "  print(f\"Hello {name}!\")\n",
        "\n",
        "funct_g(\"Araf\")"
      ],
      "metadata": {
        "colab": {
          "base_uri": "https://localhost:8080/"
        },
        "id": "lJ1_8DhAp6U4",
        "outputId": "1c5c6e95-506c-4972-8681-dfad3a2b55ed"
      },
      "execution_count": 81,
      "outputs": [
        {
          "output_type": "stream",
          "name": "stdout",
          "text": [
            "Hello Araf!\n"
          ]
        }
      ]
    },
    {
      "cell_type": "code",
      "source": [
        "# 83. Define a function to calculate the square of a number.\n",
        "\n",
        "def square(num):\n",
        "  print(num**2)\n",
        "\n",
        "square(8)"
      ],
      "metadata": {
        "colab": {
          "base_uri": "https://localhost:8080/"
        },
        "id": "-nGe_jpLqM7n",
        "outputId": "03121b9e-d07a-484f-833b-5f5b67e3c1fd"
      },
      "execution_count": 82,
      "outputs": [
        {
          "output_type": "stream",
          "name": "stdout",
          "text": [
            "64\n"
          ]
        }
      ]
    },
    {
      "cell_type": "code",
      "source": [
        "# 84. Write a function to check if a number is even.\n",
        "\n",
        "def check_even(num):\n",
        "  if num%2 == 0:\n",
        "    print(\"The number is even\")\n",
        "  else:\n",
        "    print(\"The number is not even\")\n",
        "\n",
        "check_even(90)"
      ],
      "metadata": {
        "colab": {
          "base_uri": "https://localhost:8080/"
        },
        "id": "9_UkwxFEqcX3",
        "outputId": "4350a7ce-603c-450f-c176-9168143a48ca"
      },
      "execution_count": 83,
      "outputs": [
        {
          "output_type": "stream",
          "name": "stdout",
          "text": [
            "The number is even\n"
          ]
        }
      ]
    },
    {
      "cell_type": "code",
      "source": [
        "# 85. Create a function to calculate the area of a circle.\n",
        "\n",
        "def circle_area(radius):\n",
        "  print(f\"The area of the circle ofr radius {radius} is: {round(3.1416*(radius**2), 2)}\")\n",
        "\n",
        "circle_area(2.4)"
      ],
      "metadata": {
        "colab": {
          "base_uri": "https://localhost:8080/"
        },
        "id": "6zMhFzkcqxa-",
        "outputId": "fca31753-65dc-4ac3-80cd-0314a6d49f87"
      },
      "execution_count": 84,
      "outputs": [
        {
          "output_type": "stream",
          "name": "stdout",
          "text": [
            "The area of the circle ofr radius 2.4 is: 18.1\n"
          ]
        }
      ]
    },
    {
      "cell_type": "code",
      "source": [
        "# 86. Define a function that returns the maximum of two numbers.\n",
        "\n",
        "def max_of_two(n1, n2):\n",
        "  if n1 > n2:\n",
        "    return n1\n",
        "  else:\n",
        "    return n2\n",
        "\n",
        "number = max_of_two(14, 19)\n",
        "number"
      ],
      "metadata": {
        "colab": {
          "base_uri": "https://localhost:8080/"
        },
        "id": "drA3JfEBrLoJ",
        "outputId": "b3ae305d-5d4b-49da-b48d-dc00ea39af7c"
      },
      "execution_count": 85,
      "outputs": [
        {
          "output_type": "execute_result",
          "data": {
            "text/plain": [
              "19"
            ]
          },
          "metadata": {},
          "execution_count": 85
        }
      ]
    },
    {
      "cell_type": "code",
      "source": [
        "# 87. Write a function to find the minimum of three numbers.\n",
        "\n",
        "def min_of_three(n1, n2, n3):\n",
        "  if n1<n2 and n1<n3:\n",
        "    return n1\n",
        "  elif n2<n1 and n2<n3:\n",
        "    return n2\n",
        "  else:\n",
        "    return n3\n",
        "\n",
        "number = min_of_three(10, 15, 7)\n",
        "number"
      ],
      "metadata": {
        "colab": {
          "base_uri": "https://localhost:8080/"
        },
        "id": "QffgRnsprzlN",
        "outputId": "4b55ac30-1d56-4ea5-8704-73ffde4d09fc"
      },
      "execution_count": 86,
      "outputs": [
        {
          "output_type": "execute_result",
          "data": {
            "text/plain": [
              "7"
            ]
          },
          "metadata": {},
          "execution_count": 86
        }
      ]
    },
    {
      "cell_type": "code",
      "source": [
        "# 88. Define a function to return the absolute value of a number.\n",
        "\n",
        "def abs(num):\n",
        "  if num < 0:\n",
        "    return num*(-1)\n",
        "  else:\n",
        "    return num\n",
        "\n",
        "abs(-17)"
      ],
      "metadata": {
        "colab": {
          "base_uri": "https://localhost:8080/"
        },
        "id": "iD_SENKGsaoV",
        "outputId": "6dbc7858-ae72-401f-a4f7-e14929a69485"
      },
      "execution_count": 87,
      "outputs": [
        {
          "output_type": "execute_result",
          "data": {
            "text/plain": [
              "17"
            ]
          },
          "metadata": {},
          "execution_count": 87
        }
      ]
    },
    {
      "cell_type": "code",
      "source": [
        "# 89. Write a function to convert Celsius to Fahrenheit.\n",
        "\n",
        "def cel_to_faren(temp):\n",
        "  return (temp*(9/5)) + 32\n",
        "\n",
        "cel_to_faren(34)"
      ],
      "metadata": {
        "colab": {
          "base_uri": "https://localhost:8080/"
        },
        "id": "WKtheB4Isyqs",
        "outputId": "fb33b3d2-c737-4873-f0d5-b2d2263d3c69"
      },
      "execution_count": 88,
      "outputs": [
        {
          "output_type": "execute_result",
          "data": {
            "text/plain": [
              "93.2"
            ]
          },
          "metadata": {},
          "execution_count": 88
        }
      ]
    },
    {
      "cell_type": "code",
      "source": [
        "# 90. Create a function to calculate the factorial of a number.\n",
        "\n",
        "def factorial(num):\n",
        "  fact = 1\n",
        "  i = 1\n",
        "\n",
        "  while i <= num:\n",
        "    fact *= i\n",
        "    i += 1\n",
        "  return fact\n",
        "\n",
        "factorial(5)"
      ],
      "metadata": {
        "colab": {
          "base_uri": "https://localhost:8080/"
        },
        "id": "rwcxyOKzwikg",
        "outputId": "e514d75e-43e0-41b6-b67e-5f3d27731b9e"
      },
      "execution_count": 89,
      "outputs": [
        {
          "output_type": "execute_result",
          "data": {
            "text/plain": [
              "120"
            ]
          },
          "metadata": {},
          "execution_count": 89
        }
      ]
    },
    {
      "cell_type": "code",
      "source": [
        "# 91. Write a function to add two numbers and return the result.\n",
        "# 92. Define a function that takes a list and returns the sum of all elements.\n",
        "# 93. Write a function that checks if a string is a palindrome.\n",
        "# 94. Define a function that returns the reverse of a string.\n",
        "# 95. Write a function that accepts a number and returns True if it's prime.\n",
        "# 96. Create a function that returns the count of vowels in a string.\n",
        "# 97. Define a function that takes a list and returns the largest element.\n",
        "# 98. Write a function to count occurrences of a character in a string.\n",
        "# 99. Define a function that takes a list and returns only the even numbers.\n",
        "# 100. Create a function to calculate the GCD of two numbers."
      ],
      "metadata": {
        "id": "io0isCaUxFuo"
      },
      "execution_count": 90,
      "outputs": []
    },
    {
      "cell_type": "code",
      "source": [
        "# 91. Write a function to add two numbers and return the result.\n",
        "\n",
        "def add(a, b):\n",
        "  return a+b\n",
        "\n",
        "add(12, 15)"
      ],
      "metadata": {
        "colab": {
          "base_uri": "https://localhost:8080/"
        },
        "id": "AQv6IXyLxOZ6",
        "outputId": "114b9ba3-a17d-42e9-c070-e3b7e76ef38d"
      },
      "execution_count": 91,
      "outputs": [
        {
          "output_type": "execute_result",
          "data": {
            "text/plain": [
              "27"
            ]
          },
          "metadata": {},
          "execution_count": 91
        }
      ]
    },
    {
      "cell_type": "code",
      "source": [
        "# 92. Define a function that takes a list and returns the sum of all elements.\n",
        "\n",
        "def list_sum(list_):\n",
        "  sum = 0\n",
        "  for i in list_:\n",
        "    sum = sum+i\n",
        "  return sum\n",
        "\n",
        "list_sum([1, 2, 3, 4])"
      ],
      "metadata": {
        "colab": {
          "base_uri": "https://localhost:8080/"
        },
        "id": "a0kYr1tHxWBw",
        "outputId": "51de8c4b-0225-4df5-aade-9011aa2b25eb"
      },
      "execution_count": 92,
      "outputs": [
        {
          "output_type": "execute_result",
          "data": {
            "text/plain": [
              "10"
            ]
          },
          "metadata": {},
          "execution_count": 92
        }
      ]
    },
    {
      "cell_type": "code",
      "source": [
        "# 93. Write a function that checks if a string is a palindrome.\n",
        "\n",
        "def is_palindrome(s):\n",
        "  s = s.replace(\" \", \"\").lower()\n",
        "  if s == s[::-1]:\n",
        "    print(f\"The string {s} is a palindrome\")\n",
        "  else:\n",
        "    print(f\"The string {s} is not a palindrome\")\n",
        "\n",
        "is_palindrome(\"madam\")"
      ],
      "metadata": {
        "colab": {
          "base_uri": "https://localhost:8080/"
        },
        "id": "har-tIVIxxYf",
        "outputId": "7fd9a2e6-d8d5-4453-d085-3e30605c54b5"
      },
      "execution_count": 93,
      "outputs": [
        {
          "output_type": "stream",
          "name": "stdout",
          "text": [
            "The string madam is a palindrome\n"
          ]
        }
      ]
    },
    {
      "cell_type": "code",
      "source": [
        "# 94. Define a function that returns the reverse of a string.\n",
        "\n",
        "def reverse(s):\n",
        "  return s[::-1]\n",
        "\n",
        "reverse(\"nafiul\")"
      ],
      "metadata": {
        "colab": {
          "base_uri": "https://localhost:8080/",
          "height": 35
        },
        "id": "SVHnrJvsy5ae",
        "outputId": "f997c90e-ce33-49b9-a31f-429e44ae2674"
      },
      "execution_count": 94,
      "outputs": [
        {
          "output_type": "execute_result",
          "data": {
            "text/plain": [
              "'luifan'"
            ],
            "application/vnd.google.colaboratory.intrinsic+json": {
              "type": "string"
            }
          },
          "metadata": {},
          "execution_count": 94
        }
      ]
    },
    {
      "cell_type": "code",
      "source": [
        "# 95. Write a function that accepts a number and returns True if it's prime.\n",
        "\n",
        "def is_prime(num):\n",
        "  if num <= 1:\n",
        "    return False\n",
        "  for i in range(2, int(num ** 0.5) + 1):\n",
        "    if num % i == 0:\n",
        "      return False\n",
        "  return True\n",
        "\n",
        "print(is_prime(7))\n",
        "print(is_prime(10))\n",
        "print(is_prime(1))"
      ],
      "metadata": {
        "id": "mb93m_2lzMcl",
        "colab": {
          "base_uri": "https://localhost:8080/"
        },
        "outputId": "6dd8e99b-3db5-4ce0-a3d9-c357e379d08a"
      },
      "execution_count": 95,
      "outputs": [
        {
          "output_type": "stream",
          "name": "stdout",
          "text": [
            "True\n",
            "False\n",
            "False\n"
          ]
        }
      ]
    },
    {
      "cell_type": "code",
      "source": [
        "# 96. Create a function that returns the count of vowels in a string.\n",
        "\n",
        "def count_vowels(s):\n",
        "  vowels = \"aeiouAEIOU\"\n",
        "  count = 0\n",
        "  for char in s:\n",
        "    if char in vowels:\n",
        "      count += 1\n",
        "  return count\n",
        "\n",
        "count_vowels(\"Nafiul Araf\")"
      ],
      "metadata": {
        "id": "KVrZlydIznZl",
        "colab": {
          "base_uri": "https://localhost:8080/"
        },
        "outputId": "78af3f95-7853-4edb-9b20-000eb4e52664"
      },
      "execution_count": 96,
      "outputs": [
        {
          "output_type": "execute_result",
          "data": {
            "text/plain": [
              "5"
            ]
          },
          "metadata": {},
          "execution_count": 96
        }
      ]
    },
    {
      "cell_type": "code",
      "source": [
        "# 97. Define a function that takes a list and returns the largest element.\n",
        "\n",
        "def find_largest_element(lst):\n",
        "  if not lst:\n",
        "    return None\n",
        "  largest = lst[0]\n",
        "  for num in lst:\n",
        "    if num > largest:\n",
        "      largest = num\n",
        "  return largest\n",
        "\n",
        "find_largest_element([12, 1, 34, 23,343,11,45,33,234])"
      ],
      "metadata": {
        "colab": {
          "base_uri": "https://localhost:8080/"
        },
        "id": "HEO0amMe2ZrM",
        "outputId": "bf9b4824-9b23-453a-f2fb-17371d758770"
      },
      "execution_count": 97,
      "outputs": [
        {
          "output_type": "execute_result",
          "data": {
            "text/plain": [
              "343"
            ]
          },
          "metadata": {},
          "execution_count": 97
        }
      ]
    },
    {
      "cell_type": "code",
      "source": [
        "# 98. Write a function to count occurrences of a character in a string.\n",
        "\n",
        "def count_character(s, char):\n",
        "  count = 0\n",
        "  for c in s:\n",
        "    if c == char:\n",
        "      count += 1\n",
        "  return count\n",
        "\n",
        "s = \"hello world\"\n",
        "s_un = set(s)\n",
        "for i in s_un:\n",
        "  print(f\"Count {i} = {count_character(s, i)}\\n\")"
      ],
      "metadata": {
        "colab": {
          "base_uri": "https://localhost:8080/"
        },
        "id": "ZDSariMo211q",
        "outputId": "ae2fe1a7-e15f-4d30-c46e-2506a83e5f8f"
      },
      "execution_count": 98,
      "outputs": [
        {
          "output_type": "stream",
          "name": "stdout",
          "text": [
            "Count l = 3\n",
            "\n",
            "Count h = 1\n",
            "\n",
            "Count r = 1\n",
            "\n",
            "Count w = 1\n",
            "\n",
            "Count e = 1\n",
            "\n",
            "Count o = 2\n",
            "\n",
            "Count d = 1\n",
            "\n",
            "Count   = 1\n",
            "\n"
          ]
        }
      ]
    },
    {
      "cell_type": "code",
      "source": [
        "# 99. Define a function that takes a list and returns only the even numbers.\n",
        "\n",
        "def even_list(list_):\n",
        "  evens = []\n",
        "  for i in list_:\n",
        "    if i%2 == 0:\n",
        "      evens.append(i)\n",
        "  return evens\n",
        "even_list([12, 1, 34, 23,343,11,45,33,234])"
      ],
      "metadata": {
        "colab": {
          "base_uri": "https://localhost:8080/"
        },
        "id": "IF97bi6T3jpa",
        "outputId": "10c8d220-35d5-48bd-e791-8ab99952b8e3"
      },
      "execution_count": 99,
      "outputs": [
        {
          "output_type": "execute_result",
          "data": {
            "text/plain": [
              "[12, 34, 234]"
            ]
          },
          "metadata": {},
          "execution_count": 99
        }
      ]
    },
    {
      "cell_type": "code",
      "source": [
        "# 100. Create a function to calculate the GCD of two numbers.\n",
        "\n",
        "def gcd(a, b):\n",
        "  if b!= 0:\n",
        "    a, b = b, a%b\n",
        "  return a\n",
        "\n",
        "\n",
        "print(gcd(48, 18))"
      ],
      "metadata": {
        "colab": {
          "base_uri": "https://localhost:8080/"
        },
        "id": "RnsyZZdZ5bWX",
        "outputId": "928e20b5-2dd9-4a61-978a-07a622f6529d"
      },
      "execution_count": 100,
      "outputs": [
        {
          "output_type": "stream",
          "name": "stdout",
          "text": [
            "18\n"
          ]
        }
      ]
    },
    {
      "cell_type": "code",
      "source": [],
      "metadata": {
        "id": "LeaxFU0Y6Wx-"
      },
      "execution_count": 100,
      "outputs": []
    }
  ]
}