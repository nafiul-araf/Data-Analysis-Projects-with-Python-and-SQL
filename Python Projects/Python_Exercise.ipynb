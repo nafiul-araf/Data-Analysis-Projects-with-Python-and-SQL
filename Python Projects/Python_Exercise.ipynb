{
  "nbformat": 4,
  "nbformat_minor": 0,
  "metadata": {
    "colab": {
      "provenance": []
    },
    "kernelspec": {
      "name": "python3",
      "display_name": "Python 3"
    },
    "language_info": {
      "name": "python"
    }
  },
  "cells": [
    {
      "cell_type": "code",
      "execution_count": 1,
      "metadata": {
        "id": "UGxHWf8ai6oN"
      },
      "outputs": [],
      "source": [
        "# ### Variables\n",
        "# 1. Create a variable to store your age and print it.\n",
        "# 2. Store two numbers in variables and display their sum.\n",
        "# 3. Assign three variables in a single line with values, then print them.\n",
        "# 4. Create variables for name, age, and city, and display a sentence using them.\n",
        "# 5. Swap values of two variables using a temporary variable.\n",
        "# 6. Swap values of two variables without using a temporary variable.\n",
        "# 7. Use meaningful variable names to represent a person's name, age, and occupation, then display them."
      ]
    },
    {
      "cell_type": "code",
      "source": [
        "# 1. Create a variable to store your age and print it.\n",
        "\n",
        "age = 45\n",
        "print(age)"
      ],
      "metadata": {
        "colab": {
          "base_uri": "https://localhost:8080/"
        },
        "id": "_6PijbQWi_wR",
        "outputId": "8d38afa1-cf0b-42e5-d544-42761e509732"
      },
      "execution_count": 2,
      "outputs": [
        {
          "output_type": "stream",
          "name": "stdout",
          "text": [
            "45\n"
          ]
        }
      ]
    },
    {
      "cell_type": "code",
      "source": [
        "# 2. Store two numbers in variables and display their sum.\n",
        "a = 5\n",
        "b = 9\n",
        "\n",
        "print(a+b)"
      ],
      "metadata": {
        "colab": {
          "base_uri": "https://localhost:8080/"
        },
        "id": "4SJqLWbzjFnY",
        "outputId": "6771e7ea-7fd6-4222-9678-01d223bb308e"
      },
      "execution_count": 3,
      "outputs": [
        {
          "output_type": "stream",
          "name": "stdout",
          "text": [
            "14\n"
          ]
        }
      ]
    },
    {
      "cell_type": "code",
      "source": [
        "# 3. Assign three variables in a single line with values, then print them.\n",
        "\n",
        "a, b, c = 13, 18, 20\n",
        "\n",
        "print(a, b, c)"
      ],
      "metadata": {
        "colab": {
          "base_uri": "https://localhost:8080/"
        },
        "id": "XSAVSDf4jLiI",
        "outputId": "5bd56f67-3b20-4a8a-b5c3-f93fa8a276eb"
      },
      "execution_count": 4,
      "outputs": [
        {
          "output_type": "stream",
          "name": "stdout",
          "text": [
            "13 18 20\n"
          ]
        }
      ]
    },
    {
      "cell_type": "code",
      "source": [
        "# 4. Create variables for name, age, and city, and display a sentence using them.\n",
        "\n",
        "name = 'Nafiul'\n",
        "age = 786\n",
        "city = 'Dhaka'\n",
        "\n",
        "print(f\"I name is {name}, age is {age} and I'm from {city}\")"
      ],
      "metadata": {
        "colab": {
          "base_uri": "https://localhost:8080/"
        },
        "id": "Zd832JS2jS5o",
        "outputId": "21e9d631-8855-4366-f76e-0614ac97059d"
      },
      "execution_count": 5,
      "outputs": [
        {
          "output_type": "stream",
          "name": "stdout",
          "text": [
            "I name is Nafiul, age is 786 and I'm from Dhaka\n"
          ]
        }
      ]
    },
    {
      "cell_type": "code",
      "source": [
        "# 5. Swap values of two variables using a temporary variable.\n",
        "\n",
        "a = 8\n",
        "n = 9\n",
        "\n",
        "k = a"
      ],
      "metadata": {
        "id": "KtPLjTVHjoit"
      },
      "execution_count": 6,
      "outputs": []
    },
    {
      "cell_type": "code",
      "source": [
        "# 6. Swap values of two variables without using a temporary variable.\n",
        "\n",
        "a = 7\n",
        "b = 9\n",
        "a = b"
      ],
      "metadata": {
        "id": "kPtOUpeVj02g"
      },
      "execution_count": 7,
      "outputs": []
    },
    {
      "cell_type": "code",
      "source": [
        "# 7. Use meaningful variable names to represent a person's name, age, and occupation, then display them.\n",
        "\n",
        "name, age, occupation = 'Nick', 46, 'Engineer'\n",
        "\n",
        "print(f\"He is {name}, he is {age} years old. His is an {occupation}\")"
      ],
      "metadata": {
        "colab": {
          "base_uri": "https://localhost:8080/"
        },
        "id": "5rzaJsYjj7p4",
        "outputId": "62da1a63-ff20-4594-e282-aeb8232ab9f7"
      },
      "execution_count": 8,
      "outputs": [
        {
          "output_type": "stream",
          "name": "stdout",
          "text": [
            "He is Nick, he is 46 years old. His is an Engineer\n"
          ]
        }
      ]
    },
    {
      "cell_type": "code",
      "source": [
        "# ### Numeric Data Types\n",
        "# 8. Define an integer, a float, and a complex number and print their types.\n",
        "# 9. Convert a float to an integer and print both values.\n",
        "# 10. Round a floating-point number to two decimal places.\n",
        "# 11. Calculate the remainder when 100 is divided by 7.\n",
        "# 12. Raise a number to the power of another (e.g., \\(5^3\\)).\n",
        "# 13. Find the absolute value of a negative number.\n",
        "# 14. Use scientific notation to represent a very large or very small number.\n",
        "# 15. Use Python’s `math` library to find the square root of a number.\n",
        "# 16. Convert an integer to a complex number and print the result.\n",
        "# 17. Use `math.pi` to calculate the circumference of a circle with radius 7."
      ],
      "metadata": {
        "id": "qdbfdkskkbDR"
      },
      "execution_count": 9,
      "outputs": []
    },
    {
      "cell_type": "code",
      "source": [
        "# 8. Define an integer, a float, and a complex number and print their types.\n",
        "\n",
        "a, b, c = 7, 9.7, 3+2j\n",
        "\n",
        "print(type(a), type(b), type(c))"
      ],
      "metadata": {
        "colab": {
          "base_uri": "https://localhost:8080/"
        },
        "id": "2WvdVirR_jjJ",
        "outputId": "5b031bb1-8e90-4be3-85e2-206060e97319"
      },
      "execution_count": 10,
      "outputs": [
        {
          "output_type": "stream",
          "name": "stdout",
          "text": [
            "<class 'int'> <class 'float'> <class 'complex'>\n"
          ]
        }
      ]
    },
    {
      "cell_type": "code",
      "source": [
        "# 9. Convert a float to an integer and print both values.\n",
        "\n",
        "a = 6.89\n",
        "b=int(a)\n",
        "\n",
        "a, b"
      ],
      "metadata": {
        "colab": {
          "base_uri": "https://localhost:8080/"
        },
        "id": "1ebBAvHo__cB",
        "outputId": "60f827a4-61a4-444e-b453-d6316b2fba77"
      },
      "execution_count": 11,
      "outputs": [
        {
          "output_type": "execute_result",
          "data": {
            "text/plain": [
              "(6.89, 6)"
            ]
          },
          "metadata": {},
          "execution_count": 11
        }
      ]
    },
    {
      "cell_type": "code",
      "source": [
        "# 10. Round a floating-point number to two decimal places.\n",
        "\n",
        "a = round(5.4532345, 2)\n",
        "\n",
        "a"
      ],
      "metadata": {
        "colab": {
          "base_uri": "https://localhost:8080/"
        },
        "id": "7SE1VQHkANdH",
        "outputId": "c2a3807d-db61-4b37-bfc2-05cb7ce56e56"
      },
      "execution_count": 12,
      "outputs": [
        {
          "output_type": "execute_result",
          "data": {
            "text/plain": [
              "5.45"
            ]
          },
          "metadata": {},
          "execution_count": 12
        }
      ]
    },
    {
      "cell_type": "code",
      "source": [
        "# 11. Calculate the remainder when 100 is divided by 7.\n",
        "\n",
        "100%7"
      ],
      "metadata": {
        "colab": {
          "base_uri": "https://localhost:8080/"
        },
        "id": "UStZzxt9AX2g",
        "outputId": "b34fb556-6871-4418-8974-80df676e67f1"
      },
      "execution_count": 13,
      "outputs": [
        {
          "output_type": "execute_result",
          "data": {
            "text/plain": [
              "2"
            ]
          },
          "metadata": {},
          "execution_count": 13
        }
      ]
    },
    {
      "cell_type": "code",
      "source": [
        "# 12. Raise a number to the power of another (e.g., \\(5^3\\)).\n",
        "\n",
        "5^3"
      ],
      "metadata": {
        "colab": {
          "base_uri": "https://localhost:8080/"
        },
        "id": "jxNvfhvCAd0H",
        "outputId": "8e7f9cf5-6c63-49bb-aff1-8fb6e656cf8b"
      },
      "execution_count": 14,
      "outputs": [
        {
          "output_type": "execute_result",
          "data": {
            "text/plain": [
              "6"
            ]
          },
          "metadata": {},
          "execution_count": 14
        }
      ]
    },
    {
      "cell_type": "code",
      "source": [
        "# 13. Find the absolute value of a negative number.\n",
        "\n",
        "abs(-7)"
      ],
      "metadata": {
        "colab": {
          "base_uri": "https://localhost:8080/"
        },
        "id": "jKisGYKvAk_Q",
        "outputId": "3093d589-e168-4649-c87f-4f759012736c"
      },
      "execution_count": 15,
      "outputs": [
        {
          "output_type": "execute_result",
          "data": {
            "text/plain": [
              "7"
            ]
          },
          "metadata": {},
          "execution_count": 15
        }
      ]
    },
    {
      "cell_type": "code",
      "source": [
        "# 14. Use scientific notation to represent a very large or very small number.\n",
        "\n",
        "print(f\"Large Number: {43629562592652529345629582:.2e}\")\n",
        "\n",
        "print(f\"Small Number: {0.00000000000000000000000142:.2e}\")"
      ],
      "metadata": {
        "colab": {
          "base_uri": "https://localhost:8080/"
        },
        "id": "TN7SZbaPAtMg",
        "outputId": "edc75eea-286c-4f4d-cb40-6b5c20f83c7b"
      },
      "execution_count": 16,
      "outputs": [
        {
          "output_type": "stream",
          "name": "stdout",
          "text": [
            "Large Number: 4.36e+25\n",
            "Small Number: 1.42e-24\n"
          ]
        }
      ]
    },
    {
      "cell_type": "code",
      "source": [
        "# 15. Use Python’s `math` library to find the square root of a number.\n",
        "\n",
        "import math\n",
        "math.sqrt(8)"
      ],
      "metadata": {
        "colab": {
          "base_uri": "https://localhost:8080/"
        },
        "id": "-qsaXF_-BKrR",
        "outputId": "b64d2e17-4478-428f-d6b8-8812697b9291"
      },
      "execution_count": 17,
      "outputs": [
        {
          "output_type": "execute_result",
          "data": {
            "text/plain": [
              "2.8284271247461903"
            ]
          },
          "metadata": {},
          "execution_count": 17
        }
      ]
    },
    {
      "cell_type": "code",
      "source": [
        "# 16. Convert an integer to a complex number and print the result.\n",
        "\n",
        "a = 8\n",
        "b = complex(a)\n",
        "\n",
        "print(b)"
      ],
      "metadata": {
        "colab": {
          "base_uri": "https://localhost:8080/"
        },
        "id": "-3cS-6GoBg1A",
        "outputId": "de932088-0a7b-4882-cf37-090ef8a86fa3"
      },
      "execution_count": 18,
      "outputs": [
        {
          "output_type": "stream",
          "name": "stdout",
          "text": [
            "(8+0j)\n"
          ]
        }
      ]
    },
    {
      "cell_type": "code",
      "source": [
        "# 17. Use `math.pi` to calculate the circumference of a circle with radius 7.\n",
        "\n",
        "#2*pi*r\n",
        "\n",
        "r = 7\n",
        "\n",
        "print(f\"Circumference of a circle for Radius = 7 is: {round((2 * math.pi * r), 2)}\")"
      ],
      "metadata": {
        "colab": {
          "base_uri": "https://localhost:8080/"
        },
        "id": "BeYzQx37BrRQ",
        "outputId": "4f48f8cc-5388-4771-934c-5d9b1493ad9c"
      },
      "execution_count": 19,
      "outputs": [
        {
          "output_type": "stream",
          "name": "stdout",
          "text": [
            "Circumference of a circle for Radius = 7 is: 43.98\n"
          ]
        }
      ]
    },
    {
      "cell_type": "code",
      "source": [
        "# ### Strings\n",
        "# 18. Create a string variable containing your full name and print it.\n",
        "# 19. Find the length of a string stored in a variable.\n",
        "# 20. Concatenate two strings with a space in between.\n",
        "# 21. Convert a string to all uppercase letters.\n",
        "# 22. Convert a string to all lowercase letters.\n",
        "# 23. Replace all occurrences of a character in a string with another character.\n",
        "# 24. Check if a given substring is in a string.\n",
        "# 25. Extract the last character from a string.\n",
        "# 26. Reverse a string using slicing.\n",
        "# 27. Create a multi-line string and print it."
      ],
      "metadata": {
        "id": "8SrHTPeACPIp"
      },
      "execution_count": 20,
      "outputs": []
    },
    {
      "cell_type": "code",
      "source": [
        "# 18. Create a string variable containing your full name and print it.\n",
        "\n",
        "name = \"Md. Nafiul Islam\"\n",
        "\n",
        "print(name)"
      ],
      "metadata": {
        "colab": {
          "base_uri": "https://localhost:8080/"
        },
        "id": "w41OrmzmCW8T",
        "outputId": "fcb566f9-da1e-4145-8a88-3abf096d26a3"
      },
      "execution_count": 21,
      "outputs": [
        {
          "output_type": "stream",
          "name": "stdout",
          "text": [
            "Md. Nafiul Islam\n"
          ]
        }
      ]
    },
    {
      "cell_type": "code",
      "source": [
        "# 19. Find the length of a string stored in a variable.\n",
        "\n",
        "len(name)"
      ],
      "metadata": {
        "colab": {
          "base_uri": "https://localhost:8080/"
        },
        "id": "yKVpU-x9CfqQ",
        "outputId": "dc274518-815c-4241-f9e5-900a976586d6"
      },
      "execution_count": 22,
      "outputs": [
        {
          "output_type": "execute_result",
          "data": {
            "text/plain": [
              "16"
            ]
          },
          "metadata": {},
          "execution_count": 22
        }
      ]
    },
    {
      "cell_type": "code",
      "source": [
        "# 20. Concatenate two strings with a space in between.\n",
        "\n",
        "nick_name = \"Araf\"\n",
        "\n",
        "full_name = name + \" \" + nick_name\n",
        "\n",
        "print(full_name)"
      ],
      "metadata": {
        "colab": {
          "base_uri": "https://localhost:8080/"
        },
        "id": "m0oucCIgClao",
        "outputId": "e6b047cb-514c-400f-8cf6-b3226688820c"
      },
      "execution_count": 23,
      "outputs": [
        {
          "output_type": "stream",
          "name": "stdout",
          "text": [
            "Md. Nafiul Islam Araf\n"
          ]
        }
      ]
    },
    {
      "cell_type": "code",
      "source": [
        "# 21. Convert a string to all uppercase letters.\n",
        "\n",
        "name.upper()"
      ],
      "metadata": {
        "colab": {
          "base_uri": "https://localhost:8080/",
          "height": 35
        },
        "id": "Pa278X9qC3aQ",
        "outputId": "2e8e49e7-f816-4347-ba59-a7fac95c9548"
      },
      "execution_count": 24,
      "outputs": [
        {
          "output_type": "execute_result",
          "data": {
            "text/plain": [
              "'MD. NAFIUL ISLAM'"
            ],
            "application/vnd.google.colaboratory.intrinsic+json": {
              "type": "string"
            }
          },
          "metadata": {},
          "execution_count": 24
        }
      ]
    },
    {
      "cell_type": "code",
      "source": [
        "# 22. Convert a string to all lowercase letters.\n",
        "\n",
        "name.lower()"
      ],
      "metadata": {
        "colab": {
          "base_uri": "https://localhost:8080/",
          "height": 35
        },
        "id": "QD7TttKIC9X4",
        "outputId": "b5a0d293-2a28-4147-cc4c-faecd9d21a7d"
      },
      "execution_count": 25,
      "outputs": [
        {
          "output_type": "execute_result",
          "data": {
            "text/plain": [
              "'md. nafiul islam'"
            ],
            "application/vnd.google.colaboratory.intrinsic+json": {
              "type": "string"
            }
          },
          "metadata": {},
          "execution_count": 25
        }
      ]
    },
    {
      "cell_type": "code",
      "source": [
        "# 23. Replace all occurrences of a character in a string with another character.\n",
        "\n",
        "name.replace(\"l\", \"o\")"
      ],
      "metadata": {
        "colab": {
          "base_uri": "https://localhost:8080/",
          "height": 35
        },
        "id": "RbuQxIAUDB6g",
        "outputId": "436f6412-ae91-4e6e-bf4e-c1e0a79dcee0"
      },
      "execution_count": 26,
      "outputs": [
        {
          "output_type": "execute_result",
          "data": {
            "text/plain": [
              "'Md. Nafiuo Isoam'"
            ],
            "application/vnd.google.colaboratory.intrinsic+json": {
              "type": "string"
            }
          },
          "metadata": {},
          "execution_count": 26
        }
      ]
    },
    {
      "cell_type": "code",
      "source": [
        "# 24. Check if a given substring is in a string.\n",
        "\n",
        "if \"naf\" in name:\n",
        "  print(\"Yes\")\n",
        "else:\n",
        "  print(\"No\")"
      ],
      "metadata": {
        "colab": {
          "base_uri": "https://localhost:8080/"
        },
        "id": "2nH-4yjSDd6R",
        "outputId": "9921e30b-9b3e-4463-c513-f2973bd12e60"
      },
      "execution_count": 27,
      "outputs": [
        {
          "output_type": "stream",
          "name": "stdout",
          "text": [
            "No\n"
          ]
        }
      ]
    },
    {
      "cell_type": "code",
      "source": [
        "if \"Naf\" in name:\n",
        "  print(\"Yes\")\n",
        "else:\n",
        "  print(\"No\")"
      ],
      "metadata": {
        "colab": {
          "base_uri": "https://localhost:8080/"
        },
        "id": "_maZR3VuDz_4",
        "outputId": "5c56b4da-6494-4b4b-998a-c4c98304c7fa"
      },
      "execution_count": 28,
      "outputs": [
        {
          "output_type": "stream",
          "name": "stdout",
          "text": [
            "Yes\n"
          ]
        }
      ]
    },
    {
      "cell_type": "code",
      "source": [
        "# 25. Extract the last character from a string.\n",
        "\n",
        "name[-1]"
      ],
      "metadata": {
        "colab": {
          "base_uri": "https://localhost:8080/",
          "height": 35
        },
        "id": "DwoAMmlMD3jY",
        "outputId": "f9569213-bef6-4c8f-d102-19acbbd6545d"
      },
      "execution_count": 29,
      "outputs": [
        {
          "output_type": "execute_result",
          "data": {
            "text/plain": [
              "'m'"
            ],
            "application/vnd.google.colaboratory.intrinsic+json": {
              "type": "string"
            }
          },
          "metadata": {},
          "execution_count": 29
        }
      ]
    },
    {
      "cell_type": "code",
      "source": [
        "# 26. Reverse a string using slicing.\n",
        "\n",
        "name[::-1]"
      ],
      "metadata": {
        "colab": {
          "base_uri": "https://localhost:8080/",
          "height": 35
        },
        "id": "48xxXOvfD80Y",
        "outputId": "bc225c5c-f690-4a28-f072-0658f7ae549a"
      },
      "execution_count": 30,
      "outputs": [
        {
          "output_type": "execute_result",
          "data": {
            "text/plain": [
              "'malsI luifaN .dM'"
            ],
            "application/vnd.google.colaboratory.intrinsic+json": {
              "type": "string"
            }
          },
          "metadata": {},
          "execution_count": 30
        }
      ]
    },
    {
      "cell_type": "code",
      "source": [
        "# 27. Create a multi-line string and print it.\n",
        "\n",
        "mult = \"\"\"My name is Nafiul,\n",
        "My age is 7878 and,\n",
        "My Occupation is X.\"\"\"\n",
        "print(mult)"
      ],
      "metadata": {
        "colab": {
          "base_uri": "https://localhost:8080/"
        },
        "id": "0nKN7_jjEFGo",
        "outputId": "98d0f9de-b36c-4917-8002-96d15aea09c9"
      },
      "execution_count": 31,
      "outputs": [
        {
          "output_type": "stream",
          "name": "stdout",
          "text": [
            "My name is Nafiul,\n",
            "My age is 7878 and,\n",
            "My Occupation is X.\n"
          ]
        }
      ]
    },
    {
      "cell_type": "code",
      "source": [
        "# ### String Slicing\n",
        "# 28. Extract the first five characters of a string.\n",
        "# 29. Slice the last three characters of a string.\n",
        "# 30. Extract a substring from the 2nd to the 6th character of a string.\n",
        "# 31. Get every alternate character in a string.\n",
        "# 32. Remove the first character from a string using slicing.\n",
        "# 33. Extract a substring from the middle of a string.\n",
        "# 34. Use negative indexing to get the last three characters of a string.\n",
        "# 35. Create a new string from a given string by skipping every third character."
      ],
      "metadata": {
        "id": "UCwOdHHjEV3x"
      },
      "execution_count": 32,
      "outputs": []
    },
    {
      "cell_type": "code",
      "source": [
        "# 28. Extract the first five characters of a string.\n",
        "name = \"karwanBazar\"\n",
        "name[:5]"
      ],
      "metadata": {
        "colab": {
          "base_uri": "https://localhost:8080/",
          "height": 35
        },
        "id": "jABuLygEE010",
        "outputId": "ee32873f-abdb-42e7-87ed-994d5cfb5b84"
      },
      "execution_count": 33,
      "outputs": [
        {
          "output_type": "execute_result",
          "data": {
            "text/plain": [
              "'karwa'"
            ],
            "application/vnd.google.colaboratory.intrinsic+json": {
              "type": "string"
            }
          },
          "metadata": {},
          "execution_count": 33
        }
      ]
    },
    {
      "cell_type": "code",
      "source": [
        "# 29. Slice the last three characters of a string.\n",
        "\n",
        "name[-3:]"
      ],
      "metadata": {
        "colab": {
          "base_uri": "https://localhost:8080/",
          "height": 35
        },
        "id": "RvDw6-c2E7mJ",
        "outputId": "5da337b1-1618-4f5e-c761-cc1517a5905f"
      },
      "execution_count": 34,
      "outputs": [
        {
          "output_type": "execute_result",
          "data": {
            "text/plain": [
              "'zar'"
            ],
            "application/vnd.google.colaboratory.intrinsic+json": {
              "type": "string"
            }
          },
          "metadata": {},
          "execution_count": 34
        }
      ]
    },
    {
      "cell_type": "code",
      "source": [
        "# 30. Extract a substring from the 2nd to the 6th character of a string\n",
        "\n",
        "name[2: 7]"
      ],
      "metadata": {
        "colab": {
          "base_uri": "https://localhost:8080/",
          "height": 35
        },
        "id": "Ga66Cz8-FF1I",
        "outputId": "88116166-5610-4dad-a3bc-6eda438aa897"
      },
      "execution_count": 35,
      "outputs": [
        {
          "output_type": "execute_result",
          "data": {
            "text/plain": [
              "'rwanB'"
            ],
            "application/vnd.google.colaboratory.intrinsic+json": {
              "type": "string"
            }
          },
          "metadata": {},
          "execution_count": 35
        }
      ]
    },
    {
      "cell_type": "code",
      "source": [
        "# 31. Get every alternate character in a string.\n",
        "\n",
        "name[::2]"
      ],
      "metadata": {
        "colab": {
          "base_uri": "https://localhost:8080/",
          "height": 35
        },
        "id": "eYTBMRNTFlMB",
        "outputId": "13cfad8e-0310-42ad-a76c-cb10a8e09326"
      },
      "execution_count": 36,
      "outputs": [
        {
          "output_type": "execute_result",
          "data": {
            "text/plain": [
              "'kraBzr'"
            ],
            "application/vnd.google.colaboratory.intrinsic+json": {
              "type": "string"
            }
          },
          "metadata": {},
          "execution_count": 36
        }
      ]
    },
    {
      "cell_type": "code",
      "source": [
        "# 32. Remove the first character from a string using slicing.\n",
        "\n",
        "name[1:]"
      ],
      "metadata": {
        "colab": {
          "base_uri": "https://localhost:8080/",
          "height": 35
        },
        "id": "u6kICN7pFxlh",
        "outputId": "dd778b44-177b-4285-a9cf-4dd051d1ab86"
      },
      "execution_count": 37,
      "outputs": [
        {
          "output_type": "execute_result",
          "data": {
            "text/plain": [
              "'arwanBazar'"
            ],
            "application/vnd.google.colaboratory.intrinsic+json": {
              "type": "string"
            }
          },
          "metadata": {},
          "execution_count": 37
        }
      ]
    },
    {
      "cell_type": "code",
      "source": [
        "# 33. Extract a substring from the middle of a string.\n",
        "\n",
        "name[3:7]"
      ],
      "metadata": {
        "colab": {
          "base_uri": "https://localhost:8080/",
          "height": 35
        },
        "id": "RHFfCvd2GOKZ",
        "outputId": "cc262215-9334-487b-b6be-bbbbc9ed5cd2"
      },
      "execution_count": 38,
      "outputs": [
        {
          "output_type": "execute_result",
          "data": {
            "text/plain": [
              "'wanB'"
            ],
            "application/vnd.google.colaboratory.intrinsic+json": {
              "type": "string"
            }
          },
          "metadata": {},
          "execution_count": 38
        }
      ]
    },
    {
      "cell_type": "code",
      "source": [
        "# 34. Use negative indexing to get the last three characters of a string.\n",
        "\n",
        "name[-3:]"
      ],
      "metadata": {
        "colab": {
          "base_uri": "https://localhost:8080/",
          "height": 35
        },
        "id": "EM8nYQiTGXA5",
        "outputId": "3bcfdb94-f5f4-45e1-cfba-c8e0229d048f"
      },
      "execution_count": 39,
      "outputs": [
        {
          "output_type": "execute_result",
          "data": {
            "text/plain": [
              "'zar'"
            ],
            "application/vnd.google.colaboratory.intrinsic+json": {
              "type": "string"
            }
          },
          "metadata": {},
          "execution_count": 39
        }
      ]
    },
    {
      "cell_type": "code",
      "source": [
        "# 35. Create a new string from a given string by skipping every third character.\n",
        "\n",
        "name[::3]"
      ],
      "metadata": {
        "colab": {
          "base_uri": "https://localhost:8080/",
          "height": 35
        },
        "id": "RDod5E0rGgxZ",
        "outputId": "24522e6e-5b93-47da-d4ba-2fd4b0fffec2"
      },
      "execution_count": 40,
      "outputs": [
        {
          "output_type": "execute_result",
          "data": {
            "text/plain": [
              "'kwBa'"
            ],
            "application/vnd.google.colaboratory.intrinsic+json": {
              "type": "string"
            }
          },
          "metadata": {},
          "execution_count": 40
        }
      ]
    },
    {
      "cell_type": "code",
      "source": [
        "# ### Lists\n",
        "# 36. Create a list of five fruits and print it.\n",
        "# 37. Access the third item in a list.\n",
        "# 38. Modify the second item in a list.\n",
        "# 39. Add a new item to the end of a list.\n",
        "# 40. Insert an item at the second position in a list.\n",
        "# 41. Remove the first item from a list.\n",
        "# 42. Remove an item by value from a list.\n",
        "# 43. Find the length of a list.\n",
        "# 44. Check if a certain item is in a list.\n",
        "# 45. Combine two lists into one."
      ],
      "metadata": {
        "id": "gJfVq8mWGro5"
      },
      "execution_count": 41,
      "outputs": []
    },
    {
      "cell_type": "code",
      "source": [
        "# 36. Create a list of five fruits and print it.\n",
        "\n",
        "f = ['apple', 'banana', 'jackfruit', 'mangoo', 'pine-apple']\n",
        "\n",
        "print(f)"
      ],
      "metadata": {
        "colab": {
          "base_uri": "https://localhost:8080/"
        },
        "id": "otIIoGBQ2Ro0",
        "outputId": "7fb18229-496c-44c0-c477-fa7de2c76fe5"
      },
      "execution_count": 42,
      "outputs": [
        {
          "output_type": "stream",
          "name": "stdout",
          "text": [
            "['apple', 'banana', 'jackfruit', 'mangoo', 'pine-apple']\n"
          ]
        }
      ]
    },
    {
      "cell_type": "code",
      "source": [
        "# 37. Access the third item in a list.\n",
        "\n",
        "f[2]"
      ],
      "metadata": {
        "colab": {
          "base_uri": "https://localhost:8080/",
          "height": 35
        },
        "id": "2bdNiKfG2g0j",
        "outputId": "a894bac3-47d3-4a5e-e65a-8beb9840a3ed"
      },
      "execution_count": 43,
      "outputs": [
        {
          "output_type": "execute_result",
          "data": {
            "text/plain": [
              "'jackfruit'"
            ],
            "application/vnd.google.colaboratory.intrinsic+json": {
              "type": "string"
            }
          },
          "metadata": {},
          "execution_count": 43
        }
      ]
    },
    {
      "cell_type": "code",
      "source": [
        "# 38. Modify the second item in a list.\n",
        "\n",
        "f[1] = 'grasp'\n",
        "f"
      ],
      "metadata": {
        "colab": {
          "base_uri": "https://localhost:8080/"
        },
        "id": "_XDEKFlz2k-q",
        "outputId": "e3045e14-cfb8-47a9-df82-286d3d1865cd"
      },
      "execution_count": 44,
      "outputs": [
        {
          "output_type": "execute_result",
          "data": {
            "text/plain": [
              "['apple', 'grasp', 'jackfruit', 'mangoo', 'pine-apple']"
            ]
          },
          "metadata": {},
          "execution_count": 44
        }
      ]
    },
    {
      "cell_type": "code",
      "source": [
        "# 39. Add a new item to the end of a list.\n",
        "\n",
        "f.append('apple')\n",
        "f"
      ],
      "metadata": {
        "colab": {
          "base_uri": "https://localhost:8080/"
        },
        "id": "cI0I5YE_2ueh",
        "outputId": "dd02e392-78cc-4186-887c-5355e35bf6b5"
      },
      "execution_count": 45,
      "outputs": [
        {
          "output_type": "execute_result",
          "data": {
            "text/plain": [
              "['apple', 'grasp', 'jackfruit', 'mangoo', 'pine-apple', 'apple']"
            ]
          },
          "metadata": {},
          "execution_count": 45
        }
      ]
    },
    {
      "cell_type": "code",
      "source": [
        "# 40. Insert an item at the second position in a list.\n",
        "\n",
        "f.insert(1, 'orange')\n",
        "f"
      ],
      "metadata": {
        "colab": {
          "base_uri": "https://localhost:8080/"
        },
        "id": "ZZZHWJyH20iZ",
        "outputId": "d5961b03-9d21-444c-e234-84216cd1c369"
      },
      "execution_count": 46,
      "outputs": [
        {
          "output_type": "execute_result",
          "data": {
            "text/plain": [
              "['apple', 'orange', 'grasp', 'jackfruit', 'mangoo', 'pine-apple', 'apple']"
            ]
          },
          "metadata": {},
          "execution_count": 46
        }
      ]
    },
    {
      "cell_type": "code",
      "source": [
        "# 41. Remove the first item from a list.\n",
        "\n",
        "f.pop(0)\n",
        "f"
      ],
      "metadata": {
        "colab": {
          "base_uri": "https://localhost:8080/"
        },
        "id": "713axdhw3C9R",
        "outputId": "5ff68590-0dcd-4d5b-ab79-3983c9cec66d"
      },
      "execution_count": 47,
      "outputs": [
        {
          "output_type": "execute_result",
          "data": {
            "text/plain": [
              "['orange', 'grasp', 'jackfruit', 'mangoo', 'pine-apple', 'apple']"
            ]
          },
          "metadata": {},
          "execution_count": 47
        }
      ]
    },
    {
      "cell_type": "code",
      "source": [
        "# 42. Remove an item by value from a list.\n",
        "\n",
        "f.remove('pine-apple')\n",
        "f"
      ],
      "metadata": {
        "colab": {
          "base_uri": "https://localhost:8080/"
        },
        "id": "mO4l9DyB3WBZ",
        "outputId": "91f31cc3-7112-425e-f106-38d181ac0b27"
      },
      "execution_count": 48,
      "outputs": [
        {
          "output_type": "execute_result",
          "data": {
            "text/plain": [
              "['orange', 'grasp', 'jackfruit', 'mangoo', 'apple']"
            ]
          },
          "metadata": {},
          "execution_count": 48
        }
      ]
    },
    {
      "cell_type": "code",
      "source": [
        "# 43. Find the length of a list.\n",
        "\n",
        "len(f)"
      ],
      "metadata": {
        "colab": {
          "base_uri": "https://localhost:8080/"
        },
        "id": "Uz6Ie4fp3fBx",
        "outputId": "4bedcd80-5913-4b04-d096-0d7265f44abd"
      },
      "execution_count": 49,
      "outputs": [
        {
          "output_type": "execute_result",
          "data": {
            "text/plain": [
              "5"
            ]
          },
          "metadata": {},
          "execution_count": 49
        }
      ]
    },
    {
      "cell_type": "code",
      "source": [
        "# 44. Check if a certain item is in a list.\n",
        "\n",
        "'apple' in f"
      ],
      "metadata": {
        "colab": {
          "base_uri": "https://localhost:8080/"
        },
        "id": "E7cJVYDw3ifJ",
        "outputId": "09992ed4-8d7f-4823-c5b9-b535f385094e"
      },
      "execution_count": 50,
      "outputs": [
        {
          "output_type": "execute_result",
          "data": {
            "text/plain": [
              "True"
            ]
          },
          "metadata": {},
          "execution_count": 50
        }
      ]
    },
    {
      "cell_type": "code",
      "source": [
        "# 45. Combine two lists into one.\n",
        "\n",
        "a = ['hjh', 88, 23]\n",
        "b = [9.90, 3, True]\n",
        "\n",
        "a+b"
      ],
      "metadata": {
        "colab": {
          "base_uri": "https://localhost:8080/"
        },
        "id": "KGI27Kze3x94",
        "outputId": "31e67d09-7e77-420e-fc37-1a506c9b34c3"
      },
      "execution_count": 51,
      "outputs": [
        {
          "output_type": "execute_result",
          "data": {
            "text/plain": [
              "['hjh', 88, 23, 9.9, 3, True]"
            ]
          },
          "metadata": {},
          "execution_count": 51
        }
      ]
    },
    {
      "cell_type": "code",
      "source": [
        "# ### List Slicing\n",
        "# 46. Slice the first three elements of a list.\n",
        "# 47. Get the last two elements of a list using slicing.\n",
        "# 48. Extract elements from index 2 to 4 from a list.\n",
        "# 49. Get every alternate element in a list using slicing.\n",
        "# 50. Reverse a list using slicing.\n",
        "# 51. Slice out the middle portion of a list.\n",
        "# 52. Remove the last element from a list without using any built-in functions.\n",
        "# 53. Use negative indexing to get the last three elements of a list.\n",
        "# 54. Create a new list that excludes the first and last elements of an existing list."
      ],
      "metadata": {
        "id": "FgUe5-XV3-Gw"
      },
      "execution_count": 52,
      "outputs": []
    },
    {
      "cell_type": "code",
      "source": [
        "# 46. Slice the first three elements of a list.\n",
        "\n",
        "f[:3]"
      ],
      "metadata": {
        "colab": {
          "base_uri": "https://localhost:8080/"
        },
        "id": "c3jfXRnq4GSK",
        "outputId": "d827dc0e-d097-4b11-d6ae-38c5d0a79f39"
      },
      "execution_count": 53,
      "outputs": [
        {
          "output_type": "execute_result",
          "data": {
            "text/plain": [
              "['orange', 'grasp', 'jackfruit']"
            ]
          },
          "metadata": {},
          "execution_count": 53
        }
      ]
    },
    {
      "cell_type": "code",
      "source": [
        "# 47. Get the last two elements of a list using slicing.\n",
        "\n",
        "f[-2:]"
      ],
      "metadata": {
        "colab": {
          "base_uri": "https://localhost:8080/"
        },
        "id": "qSC0Ziem4LkQ",
        "outputId": "dbe1f189-cb78-4d33-aa89-38a8230c9b15"
      },
      "execution_count": 54,
      "outputs": [
        {
          "output_type": "execute_result",
          "data": {
            "text/plain": [
              "['mangoo', 'apple']"
            ]
          },
          "metadata": {},
          "execution_count": 54
        }
      ]
    },
    {
      "cell_type": "code",
      "source": [
        "# 48. Extract elements from index 2 to 4 from a list.\n",
        "\n",
        "f[2:5]"
      ],
      "metadata": {
        "colab": {
          "base_uri": "https://localhost:8080/"
        },
        "id": "ZLlfAB3x4RlI",
        "outputId": "76d92635-3eff-4ade-a928-1937685a715e"
      },
      "execution_count": 55,
      "outputs": [
        {
          "output_type": "execute_result",
          "data": {
            "text/plain": [
              "['jackfruit', 'mangoo', 'apple']"
            ]
          },
          "metadata": {},
          "execution_count": 55
        }
      ]
    },
    {
      "cell_type": "code",
      "source": [
        "# 49. Get every alternate element in a list using slicing.\n",
        "\n",
        "f[::2]"
      ],
      "metadata": {
        "colab": {
          "base_uri": "https://localhost:8080/"
        },
        "id": "F1wn0n0O4aNA",
        "outputId": "1ea2dcc5-b399-402d-c753-a5725c303000"
      },
      "execution_count": 56,
      "outputs": [
        {
          "output_type": "execute_result",
          "data": {
            "text/plain": [
              "['orange', 'jackfruit', 'apple']"
            ]
          },
          "metadata": {},
          "execution_count": 56
        }
      ]
    },
    {
      "cell_type": "code",
      "source": [
        "# 50. Reverse a list using slicing.\n",
        "\n",
        "print(f)\n",
        "\n",
        "print(f[::-1])"
      ],
      "metadata": {
        "colab": {
          "base_uri": "https://localhost:8080/"
        },
        "id": "M5qmMCru4imv",
        "outputId": "e02ef556-1d7a-4557-933b-4e6cca93f68d"
      },
      "execution_count": 57,
      "outputs": [
        {
          "output_type": "stream",
          "name": "stdout",
          "text": [
            "['orange', 'grasp', 'jackfruit', 'mangoo', 'apple']\n",
            "['apple', 'mangoo', 'jackfruit', 'grasp', 'orange']\n"
          ]
        }
      ]
    },
    {
      "cell_type": "code",
      "source": [
        "# 51. Slice out the middle portion of a list.\n",
        "\n",
        "f[2:4]"
      ],
      "metadata": {
        "colab": {
          "base_uri": "https://localhost:8080/"
        },
        "id": "b9B84W1a48AX",
        "outputId": "81b11d47-3e12-44ac-c7e4-66f453238b09"
      },
      "execution_count": 58,
      "outputs": [
        {
          "output_type": "execute_result",
          "data": {
            "text/plain": [
              "['jackfruit', 'mangoo']"
            ]
          },
          "metadata": {},
          "execution_count": 58
        }
      ]
    },
    {
      "cell_type": "code",
      "source": [
        "# 52. Remove the last element from a list without using any built-in functions.\n",
        "\n",
        "f[:-1]"
      ],
      "metadata": {
        "colab": {
          "base_uri": "https://localhost:8080/"
        },
        "id": "ZZAadjsQ5CNP",
        "outputId": "fe036ce8-d2bd-4e21-9dc8-155fb93d299b"
      },
      "execution_count": 59,
      "outputs": [
        {
          "output_type": "execute_result",
          "data": {
            "text/plain": [
              "['orange', 'grasp', 'jackfruit', 'mangoo']"
            ]
          },
          "metadata": {},
          "execution_count": 59
        }
      ]
    },
    {
      "cell_type": "code",
      "source": [
        "# 53. Use negative indexing to get the last three elements of a list.\n",
        "\n",
        "f[-3:]"
      ],
      "metadata": {
        "colab": {
          "base_uri": "https://localhost:8080/"
        },
        "id": "S0DIK2rM5WMf",
        "outputId": "1390864f-bf75-4913-cf8c-7c3035121ef8"
      },
      "execution_count": 60,
      "outputs": [
        {
          "output_type": "execute_result",
          "data": {
            "text/plain": [
              "['jackfruit', 'mangoo', 'apple']"
            ]
          },
          "metadata": {},
          "execution_count": 60
        }
      ]
    },
    {
      "cell_type": "code",
      "source": [
        "# 54. Create a new list that excludes the first and last elements of an existing list.\n",
        "\n",
        "f_new = f[1:-1]\n",
        "f_new"
      ],
      "metadata": {
        "colab": {
          "base_uri": "https://localhost:8080/"
        },
        "id": "2bixQjI45bFe",
        "outputId": "fe1d3c8c-35f5-49c3-d5ed-7faa8c94ec88"
      },
      "execution_count": 61,
      "outputs": [
        {
          "output_type": "execute_result",
          "data": {
            "text/plain": [
              "['grasp', 'jackfruit', 'mangoo']"
            ]
          },
          "metadata": {},
          "execution_count": 61
        }
      ]
    },
    {
      "cell_type": "code",
      "source": [
        "# ### Sets\n",
        "# 55. Create a set of five numbers and print it.\n",
        "# 56. Add a new element to a set.\n",
        "# 57. Remove an element from a set.\n",
        "# 58. Check if a value is in a set.\n",
        "# 59. Combine two sets using union.\n",
        "# 60. Find the intersection of two sets.\n",
        "# 61. Find the difference between two sets.\n",
        "# 62. Convert a list with duplicate items to a set.\n",
        "# 63. Clear all elements from a set.\n",
        "# 64. Create a set of five unique colors and print its length."
      ],
      "metadata": {
        "id": "GGWkBWl65uIu"
      },
      "execution_count": 62,
      "outputs": []
    },
    {
      "cell_type": "code",
      "source": [
        "s = {1, 2, 3, 4, 5}\n",
        "\n",
        "print(type(s))\n",
        "print(s)"
      ],
      "metadata": {
        "colab": {
          "base_uri": "https://localhost:8080/"
        },
        "id": "SFBvh7I058iJ",
        "outputId": "9e7ab92e-6788-49bc-e97d-72a606e97a13"
      },
      "execution_count": 63,
      "outputs": [
        {
          "output_type": "stream",
          "name": "stdout",
          "text": [
            "<class 'set'>\n",
            "{1, 2, 3, 4, 5}\n"
          ]
        }
      ]
    },
    {
      "cell_type": "code",
      "source": [
        "# 56. Add a new element to a set.\n",
        "try:\n",
        "  s[0] = 8\n",
        "  print(s)\n",
        "except:\n",
        "  print(\"TypeError: 'set' object does not support item assignment\")\n",
        "finally:\n",
        "  print(\"Try-catch handled succesfully\")"
      ],
      "metadata": {
        "colab": {
          "base_uri": "https://localhost:8080/"
        },
        "id": "0c2PleFY6FmN",
        "outputId": "7be98faf-ffe3-4454-b105-f3561c728ab3"
      },
      "execution_count": 64,
      "outputs": [
        {
          "output_type": "stream",
          "name": "stdout",
          "text": [
            "TypeError: 'set' object does not support item assignment\n",
            "Try-catch handled succesfully\n"
          ]
        }
      ]
    },
    {
      "cell_type": "code",
      "source": [
        "# 57. Remove an element from a set.\n",
        "\n",
        "s.remove(3)\n",
        "s"
      ],
      "metadata": {
        "colab": {
          "base_uri": "https://localhost:8080/"
        },
        "id": "1r3UZq9z6TS9",
        "outputId": "510b0dd1-1851-4407-a26e-42d1958bcab8"
      },
      "execution_count": 65,
      "outputs": [
        {
          "output_type": "execute_result",
          "data": {
            "text/plain": [
              "{1, 2, 4, 5}"
            ]
          },
          "metadata": {},
          "execution_count": 65
        }
      ]
    },
    {
      "cell_type": "code",
      "source": [
        "# 58. Check if a value is in a set.\n",
        "\n",
        "3 in s"
      ],
      "metadata": {
        "colab": {
          "base_uri": "https://localhost:8080/"
        },
        "id": "QOhjJ4Nl6kWN",
        "outputId": "52621505-3e0e-4e47-bb2d-c44c6612369d"
      },
      "execution_count": 66,
      "outputs": [
        {
          "output_type": "execute_result",
          "data": {
            "text/plain": [
              "False"
            ]
          },
          "metadata": {},
          "execution_count": 66
        }
      ]
    },
    {
      "cell_type": "code",
      "source": [
        "# 59. Combine two sets using union.\n",
        "\n",
        "s1 = {4, 5, 6, 7}\n",
        "s2 = {1, 3, 5, 7, 0}\n",
        "\n",
        "s1.union(s2)"
      ],
      "metadata": {
        "colab": {
          "base_uri": "https://localhost:8080/"
        },
        "id": "RJEe_zed6pBd",
        "outputId": "e4a1940f-71f1-4ada-bf65-d95b159db454"
      },
      "execution_count": 67,
      "outputs": [
        {
          "output_type": "execute_result",
          "data": {
            "text/plain": [
              "{0, 1, 3, 4, 5, 6, 7}"
            ]
          },
          "metadata": {},
          "execution_count": 67
        }
      ]
    },
    {
      "cell_type": "code",
      "source": [
        "# 60. Find the intersection of two sets.\n",
        "\n",
        "s1.intersection(s2)"
      ],
      "metadata": {
        "colab": {
          "base_uri": "https://localhost:8080/"
        },
        "id": "Ew_0wgj063o8",
        "outputId": "2d9c0c6f-4b3a-4236-ea5f-1f10cd8758fe"
      },
      "execution_count": 68,
      "outputs": [
        {
          "output_type": "execute_result",
          "data": {
            "text/plain": [
              "{5, 7}"
            ]
          },
          "metadata": {},
          "execution_count": 68
        }
      ]
    },
    {
      "cell_type": "code",
      "source": [
        "# 61. Find the difference between two sets.\n",
        "\n",
        "s2.difference(s1)"
      ],
      "metadata": {
        "colab": {
          "base_uri": "https://localhost:8080/"
        },
        "id": "ZSf9SgMg7Aec",
        "outputId": "32885b19-8ed8-40d2-bff2-4e5be464029d"
      },
      "execution_count": 69,
      "outputs": [
        {
          "output_type": "execute_result",
          "data": {
            "text/plain": [
              "{0, 1, 3}"
            ]
          },
          "metadata": {},
          "execution_count": 69
        }
      ]
    },
    {
      "cell_type": "code",
      "source": [
        "# 62. Convert a list with duplicate items to a set.\n",
        "\n",
        "l = [2, 4, 5, 5, 8, 2, 8, 1, 2]\n",
        "\n",
        "s = set(l)\n",
        "\n",
        "print(l)\n",
        "print(s)"
      ],
      "metadata": {
        "colab": {
          "base_uri": "https://localhost:8080/"
        },
        "id": "3Ve3yxk07GEl",
        "outputId": "d5b49e8d-11f5-44e7-c0b6-046f1216dbed"
      },
      "execution_count": 70,
      "outputs": [
        {
          "output_type": "stream",
          "name": "stdout",
          "text": [
            "[2, 4, 5, 5, 8, 2, 8, 1, 2]\n",
            "{1, 2, 4, 5, 8}\n"
          ]
        }
      ]
    },
    {
      "cell_type": "code",
      "source": [
        "# 63. Clear all elements from a set.\n",
        "\n",
        "s.clear()\n",
        "s"
      ],
      "metadata": {
        "colab": {
          "base_uri": "https://localhost:8080/"
        },
        "id": "HvUeSBUY7YMU",
        "outputId": "b7080406-3acb-4451-c647-d92303de6e6f"
      },
      "execution_count": 71,
      "outputs": [
        {
          "output_type": "execute_result",
          "data": {
            "text/plain": [
              "set()"
            ]
          },
          "metadata": {},
          "execution_count": 71
        }
      ]
    },
    {
      "cell_type": "code",
      "source": [
        "# 64. Create a set of five unique colors and print its length.\n",
        "\n",
        "s = {'red', 'blue', 'green', 'white', 'orange'}\n",
        "len(s)"
      ],
      "metadata": {
        "colab": {
          "base_uri": "https://localhost:8080/"
        },
        "id": "i88a9wbw7fc8",
        "outputId": "accf02c7-d4d4-4c83-f56f-af1b9500e498"
      },
      "execution_count": 72,
      "outputs": [
        {
          "output_type": "execute_result",
          "data": {
            "text/plain": [
              "5"
            ]
          },
          "metadata": {},
          "execution_count": 72
        }
      ]
    },
    {
      "cell_type": "code",
      "source": [
        "# ### Dictionaries\n",
        "# 65. Create a dictionary with keys `name`, `age`, and `city`, and print it.\n",
        "# 66. Access the value of the `name` key in a dictionary.\n",
        "# 67. Add a new key-value pair to an existing dictionary.\n",
        "# 68. Update the value of an existing key in a dictionary.\n",
        "# 69. Remove a key-value pair from a dictionary.\n",
        "# 70. Check if a specific key exists in a dictionary.\n",
        "# 71. Get all keys from a dictionary as a list.\n",
        "# 72. Get all values from a dictionary as a list.\n",
        "# 73. Merge two dictionaries into one.\n",
        "# 74. Create a dictionary with default values for five keys."
      ],
      "metadata": {
        "id": "dZZKDT8Z7q4L"
      },
      "execution_count": 73,
      "outputs": []
    },
    {
      "cell_type": "code",
      "source": [
        "# 65. Create a dictionary with keys `name`, `age`, and `city`, and print it.\n",
        "\n",
        "d = {\n",
        "    'name': 'Nafiul',\n",
        "    'age': 345,\n",
        "    'city': 'Dhaka'\n",
        "}\n",
        "\n",
        "print(d)"
      ],
      "metadata": {
        "colab": {
          "base_uri": "https://localhost:8080/"
        },
        "id": "D_8PkIEJ7wLH",
        "outputId": "ea7342b7-2f4e-4a9d-cedb-5c7c3b6e64a7"
      },
      "execution_count": 74,
      "outputs": [
        {
          "output_type": "stream",
          "name": "stdout",
          "text": [
            "{'name': 'Nafiul', 'age': 345, 'city': 'Dhaka'}\n"
          ]
        }
      ]
    },
    {
      "cell_type": "code",
      "source": [
        "# 66. Access the value of the `name` key in a dictionary.\n",
        "\n",
        "d['name']"
      ],
      "metadata": {
        "colab": {
          "base_uri": "https://localhost:8080/",
          "height": 35
        },
        "id": "Vb-LWHT88AQj",
        "outputId": "ae889724-77b5-4a95-80be-e67822af325b"
      },
      "execution_count": 75,
      "outputs": [
        {
          "output_type": "execute_result",
          "data": {
            "text/plain": [
              "'Nafiul'"
            ],
            "application/vnd.google.colaboratory.intrinsic+json": {
              "type": "string"
            }
          },
          "metadata": {},
          "execution_count": 75
        }
      ]
    },
    {
      "cell_type": "code",
      "source": [
        "# 67. Add a new key-value pair to an existing dictionary.\n",
        "\n",
        "d['occupation'] = 'Engineer'\n",
        "d"
      ],
      "metadata": {
        "colab": {
          "base_uri": "https://localhost:8080/"
        },
        "id": "yg26f6O-8G6z",
        "outputId": "0255e62b-69df-477b-901e-c1bfc4e1c812"
      },
      "execution_count": 76,
      "outputs": [
        {
          "output_type": "execute_result",
          "data": {
            "text/plain": [
              "{'name': 'Nafiul', 'age': 345, 'city': 'Dhaka', 'occupation': 'Engineer'}"
            ]
          },
          "metadata": {},
          "execution_count": 76
        }
      ]
    },
    {
      "cell_type": "code",
      "source": [
        "# 68. Update the value of an existing key in a dictionary.\n",
        "\n",
        "d['occupation'] = 'Data Scientist'\n",
        "d"
      ],
      "metadata": {
        "colab": {
          "base_uri": "https://localhost:8080/"
        },
        "id": "Fp7OWRCL8Rjz",
        "outputId": "72237ab8-88f8-4976-a971-113bd6e70686"
      },
      "execution_count": 77,
      "outputs": [
        {
          "output_type": "execute_result",
          "data": {
            "text/plain": [
              "{'name': 'Nafiul', 'age': 345, 'city': 'Dhaka', 'occupation': 'Data Scientist'}"
            ]
          },
          "metadata": {},
          "execution_count": 77
        }
      ]
    },
    {
      "cell_type": "code",
      "source": [
        "# 69. Remove a key-value pair from a dictionary.\n",
        "\n",
        "d.pop('occupation')\n",
        "d"
      ],
      "metadata": {
        "colab": {
          "base_uri": "https://localhost:8080/"
        },
        "id": "iwACLmK58YyL",
        "outputId": "f477891c-7f56-4fd8-ecdd-12d3bf444896"
      },
      "execution_count": 78,
      "outputs": [
        {
          "output_type": "execute_result",
          "data": {
            "text/plain": [
              "{'name': 'Nafiul', 'age': 345, 'city': 'Dhaka'}"
            ]
          },
          "metadata": {},
          "execution_count": 78
        }
      ]
    },
    {
      "cell_type": "code",
      "source": [
        "# 70. Check if a specific key exists in a dictionary.\n",
        "\n",
        "'age' in d.keys()"
      ],
      "metadata": {
        "colab": {
          "base_uri": "https://localhost:8080/"
        },
        "id": "kpbTT-aF8mdL",
        "outputId": "c0994e59-996a-49a0-9164-e6d1fc8f3ec5"
      },
      "execution_count": 79,
      "outputs": [
        {
          "output_type": "execute_result",
          "data": {
            "text/plain": [
              "True"
            ]
          },
          "metadata": {},
          "execution_count": 79
        }
      ]
    },
    {
      "cell_type": "code",
      "source": [
        "# 71. Get all keys from a dictionary as a list.\n",
        "\n",
        "d.keys()"
      ],
      "metadata": {
        "colab": {
          "base_uri": "https://localhost:8080/"
        },
        "id": "Fkcv9Rez8sxK",
        "outputId": "71a3b2cd-36b3-453d-8de4-78402a1263c1"
      },
      "execution_count": 80,
      "outputs": [
        {
          "output_type": "execute_result",
          "data": {
            "text/plain": [
              "dict_keys(['name', 'age', 'city'])"
            ]
          },
          "metadata": {},
          "execution_count": 80
        }
      ]
    },
    {
      "cell_type": "code",
      "source": [
        "# 72. Get all values from a dictionary as a list.\n",
        "\n",
        "d.values()"
      ],
      "metadata": {
        "colab": {
          "base_uri": "https://localhost:8080/"
        },
        "id": "RMF9UFIg8xka",
        "outputId": "e2716b14-6f64-40a8-eeaf-fcb553eff4b7"
      },
      "execution_count": 81,
      "outputs": [
        {
          "output_type": "execute_result",
          "data": {
            "text/plain": [
              "dict_values(['Nafiul', 345, 'Dhaka'])"
            ]
          },
          "metadata": {},
          "execution_count": 81
        }
      ]
    },
    {
      "cell_type": "code",
      "source": [
        "# 73. Merge two dictionaries into one.\n",
        "\n",
        "d2 = {'occupation': 'Engineer'}\n",
        "\n",
        "d.update(d2)"
      ],
      "metadata": {
        "id": "8NjyUAGM82dy"
      },
      "execution_count": 82,
      "outputs": []
    },
    {
      "cell_type": "code",
      "source": [
        "d"
      ],
      "metadata": {
        "colab": {
          "base_uri": "https://localhost:8080/"
        },
        "id": "Vo9-lKAP9EkS",
        "outputId": "e069b77d-ac50-429d-e660-9c298b717e18"
      },
      "execution_count": 83,
      "outputs": [
        {
          "output_type": "execute_result",
          "data": {
            "text/plain": [
              "{'name': 'Nafiul', 'age': 345, 'city': 'Dhaka', 'occupation': 'Engineer'}"
            ]
          },
          "metadata": {},
          "execution_count": 83
        }
      ]
    },
    {
      "cell_type": "code",
      "source": [
        "# 74. Create a dictionary with default values for five keys.\n",
        "\n",
        "default_values = {'a': 0, 'b': 0, 'c': 0, 'd': 0, 'e': 0}"
      ],
      "metadata": {
        "id": "rgq8gfZl9Qfa"
      },
      "execution_count": 84,
      "outputs": []
    },
    {
      "cell_type": "code",
      "source": [
        "# ### Tuples\n",
        "# 75. Create a tuple with five different fruits and print it.\n",
        "# 76. Access the third item in a tuple.\n",
        "# 77. Attempt to modify the first item in a tuple and observe the error.\n",
        "# 78. Convert a tuple to a list.\n",
        "# 79. Find the length of a tuple.\n",
        "# 80. Concatenate two tuples into one.\n",
        "# 81. Create a tuple with one item and print its type.\n",
        "# 82. Unpack the values of a tuple into separate variables.\n",
        "# 83. Use tuple indexing to get the last item in a tuple.\n",
        "# 84. Check if a specific item exists in a tuple."
      ],
      "metadata": {
        "id": "4jJvOcvV9bZB"
      },
      "execution_count": 85,
      "outputs": []
    },
    {
      "cell_type": "code",
      "source": [
        "# 75. Create a tuple with five different fruits and print it.\n",
        "\n",
        "t = ('apple', 'banana', 'jackfruit', 'mangoo', 'pine-apple')\n",
        "print(t)"
      ],
      "metadata": {
        "colab": {
          "base_uri": "https://localhost:8080/"
        },
        "id": "lBRBBI1C90uV",
        "outputId": "7096a620-a79e-4761-fa8e-a0fba191914a"
      },
      "execution_count": 86,
      "outputs": [
        {
          "output_type": "stream",
          "name": "stdout",
          "text": [
            "('apple', 'banana', 'jackfruit', 'mangoo', 'pine-apple')\n"
          ]
        }
      ]
    },
    {
      "cell_type": "code",
      "source": [
        "# 76. Access the third item in a tuple.\n",
        "\n",
        "t[2]"
      ],
      "metadata": {
        "colab": {
          "base_uri": "https://localhost:8080/",
          "height": 35
        },
        "id": "-83Kfddk-Aqx",
        "outputId": "f444652d-c0a9-49f9-ea49-26bec24e8d2e"
      },
      "execution_count": 87,
      "outputs": [
        {
          "output_type": "execute_result",
          "data": {
            "text/plain": [
              "'jackfruit'"
            ],
            "application/vnd.google.colaboratory.intrinsic+json": {
              "type": "string"
            }
          },
          "metadata": {},
          "execution_count": 87
        }
      ]
    },
    {
      "cell_type": "code",
      "source": [
        "# 77. Attempt to modify the first item in a tuple and observe the error.\n",
        "\n",
        "try:\n",
        "  t[0] = 'orange'\n",
        "except:\n",
        "  print(\"'tuple' object does not support item assignment\")\n",
        "finally:\n",
        "  print(\"Try-catch handled succesfully\")"
      ],
      "metadata": {
        "colab": {
          "base_uri": "https://localhost:8080/"
        },
        "id": "N_F5IriK-E8J",
        "outputId": "9d9cd489-6233-4ec5-d0ee-2a01549f19c7"
      },
      "execution_count": 88,
      "outputs": [
        {
          "output_type": "stream",
          "name": "stdout",
          "text": [
            "'tuple' object does not support item assignment\n",
            "Try-catch handled succesfully\n"
          ]
        }
      ]
    },
    {
      "cell_type": "code",
      "source": [
        "# 78. Convert a tuple to a list.\n",
        "\n",
        "l = list(t)\n",
        "l"
      ],
      "metadata": {
        "colab": {
          "base_uri": "https://localhost:8080/"
        },
        "id": "LGYocDQR-KoQ",
        "outputId": "08813cf0-628f-4f0a-90a8-ccdd0454c47e"
      },
      "execution_count": 89,
      "outputs": [
        {
          "output_type": "execute_result",
          "data": {
            "text/plain": [
              "['apple', 'banana', 'jackfruit', 'mangoo', 'pine-apple']"
            ]
          },
          "metadata": {},
          "execution_count": 89
        }
      ]
    },
    {
      "cell_type": "code",
      "source": [
        "# 79. Find the length of a tuple.\n",
        "\n",
        "len(t)"
      ],
      "metadata": {
        "colab": {
          "base_uri": "https://localhost:8080/"
        },
        "id": "d28qXE5G-QSY",
        "outputId": "0a1839be-b628-4959-c185-7a9a23d9cc07"
      },
      "execution_count": 90,
      "outputs": [
        {
          "output_type": "execute_result",
          "data": {
            "text/plain": [
              "5"
            ]
          },
          "metadata": {},
          "execution_count": 90
        }
      ]
    },
    {
      "cell_type": "code",
      "source": [
        "# 80. Concatenate two tuples into one.\n",
        "\n",
        "t1 = ('orange', 'grasp')\n",
        "\n",
        "print(t + t1)"
      ],
      "metadata": {
        "colab": {
          "base_uri": "https://localhost:8080/"
        },
        "id": "KEkhz8V6-T6w",
        "outputId": "4ac80be0-b53d-413b-8412-1f76590e589e"
      },
      "execution_count": 91,
      "outputs": [
        {
          "output_type": "stream",
          "name": "stdout",
          "text": [
            "('apple', 'banana', 'jackfruit', 'mangoo', 'pine-apple', 'orange', 'grasp')\n"
          ]
        }
      ]
    },
    {
      "cell_type": "code",
      "source": [
        "# 81. Create a tuple with one item and print its type.\n",
        "\n",
        "t = (7.8,)\n",
        "\n",
        "print(type(t))"
      ],
      "metadata": {
        "colab": {
          "base_uri": "https://localhost:8080/"
        },
        "id": "eNMwM582-ntg",
        "outputId": "2b7c76b6-3401-41dc-ef50-c7d976c8fe7e"
      },
      "execution_count": 92,
      "outputs": [
        {
          "output_type": "stream",
          "name": "stdout",
          "text": [
            "<class 'tuple'>\n"
          ]
        }
      ]
    },
    {
      "cell_type": "code",
      "source": [
        "# 82. Unpack the values of a tuple into separate variables.\n",
        "\n",
        "print(t1)\n",
        "\n",
        "o, g = t1\n",
        "\n",
        "print(o)\n",
        "print(g)"
      ],
      "metadata": {
        "colab": {
          "base_uri": "https://localhost:8080/"
        },
        "id": "UHhvLglq-x-w",
        "outputId": "3ed33fea-e95a-40e8-fd23-8b1275c9812d"
      },
      "execution_count": 93,
      "outputs": [
        {
          "output_type": "stream",
          "name": "stdout",
          "text": [
            "('orange', 'grasp')\n",
            "orange\n",
            "grasp\n"
          ]
        }
      ]
    },
    {
      "cell_type": "code",
      "source": [
        "# 83. Use tuple indexing to get the last item in a tuple.\n",
        "\n",
        "t1[-1]"
      ],
      "metadata": {
        "colab": {
          "base_uri": "https://localhost:8080/",
          "height": 35
        },
        "id": "hvEsNU95_JED",
        "outputId": "04e90387-095a-468e-9d4f-3e5e74f1a4a4"
      },
      "execution_count": 94,
      "outputs": [
        {
          "output_type": "execute_result",
          "data": {
            "text/plain": [
              "'grasp'"
            ],
            "application/vnd.google.colaboratory.intrinsic+json": {
              "type": "string"
            }
          },
          "metadata": {},
          "execution_count": 94
        }
      ]
    },
    {
      "cell_type": "code",
      "source": [
        "# 84. Check if a specific item exists in a tuple.\n",
        "\n",
        "'apple' in t1"
      ],
      "metadata": {
        "colab": {
          "base_uri": "https://localhost:8080/"
        },
        "id": "Z6TZYPWy_PJH",
        "outputId": "bacf6b99-abff-4ca5-b842-1775b05c7986"
      },
      "execution_count": 95,
      "outputs": [
        {
          "output_type": "execute_result",
          "data": {
            "text/plain": [
              "False"
            ]
          },
          "metadata": {},
          "execution_count": 95
        }
      ]
    },
    {
      "cell_type": "code",
      "source": [
        "# ### Type Casting\n",
        "# 85. Convert an integer to a float and print both values.\n",
        "# 86. Convert a float to a string and print both values.\n",
        "# 87. Convert a string representing a number to an integer.\n",
        "# 88. Convert a list to a tuple and print both types.\n",
        "# 89. Convert a tuple to a list and print both types.\n",
        "# 90. Convert a dictionary’s keys to a list.\n",
        "# 91. Convert a dictionary’s values to a list.\n",
        "# 92. Create a set from a string and print the result.\n",
        "# 93. Use `int()` to convert a float with decimal places and note the result.\n",
        "# 94. Convert a number to a string, concatenate it with another string, and print the result."
      ],
      "metadata": {
        "id": "lw20fjPA_UHv"
      },
      "execution_count": 96,
      "outputs": []
    },
    {
      "cell_type": "code",
      "source": [
        "# 85. Convert an integer to a float and print both values.\n",
        "\n",
        "a = 6\n",
        "b = float(a)\n",
        "\n",
        "print(a, b)"
      ],
      "metadata": {
        "colab": {
          "base_uri": "https://localhost:8080/"
        },
        "id": "axMPDOE89mlf",
        "outputId": "96f27aa3-4333-4f4b-9805-d6bdc0e7f4e6"
      },
      "execution_count": 97,
      "outputs": [
        {
          "output_type": "stream",
          "name": "stdout",
          "text": [
            "6 6.0\n"
          ]
        }
      ]
    },
    {
      "cell_type": "code",
      "source": [
        "# 86. Convert a float to a string and print both values.\n",
        "\n",
        "c = str(b)\n",
        "\n",
        "print(b, c)"
      ],
      "metadata": {
        "colab": {
          "base_uri": "https://localhost:8080/"
        },
        "id": "dVmYREz39wsU",
        "outputId": "1704a9d5-c198-4589-c42b-6dbf5babc0ff"
      },
      "execution_count": 98,
      "outputs": [
        {
          "output_type": "stream",
          "name": "stdout",
          "text": [
            "6.0 6.0\n"
          ]
        }
      ]
    },
    {
      "cell_type": "code",
      "source": [
        "type(b), type(c)"
      ],
      "metadata": {
        "colab": {
          "base_uri": "https://localhost:8080/"
        },
        "id": "MC6miVW894j0",
        "outputId": "82781a00-a6f7-47f2-ba7f-aa1e402537e5"
      },
      "execution_count": 99,
      "outputs": [
        {
          "output_type": "execute_result",
          "data": {
            "text/plain": [
              "(float, str)"
            ]
          },
          "metadata": {},
          "execution_count": 99
        }
      ]
    },
    {
      "cell_type": "code",
      "source": [
        "# 87. Convert a string representing a number to an integer.\n",
        "\n",
        "d = int(float(c))\n",
        "d, type(d)"
      ],
      "metadata": {
        "colab": {
          "base_uri": "https://localhost:8080/"
        },
        "id": "-k7EgHxo98mL",
        "outputId": "c70a5216-e3ce-4fc7-f759-3510f95f1000"
      },
      "execution_count": 100,
      "outputs": [
        {
          "output_type": "execute_result",
          "data": {
            "text/plain": [
              "(6, int)"
            ]
          },
          "metadata": {},
          "execution_count": 100
        }
      ]
    },
    {
      "cell_type": "code",
      "source": [
        "# 88. Convert a list to a tuple and print both types.\n",
        "\n",
        "l = [6,7 ,8, 8]\n",
        "\n",
        "t = tuple(l)\n",
        "\n",
        "print(type(l), type(t))"
      ],
      "metadata": {
        "colab": {
          "base_uri": "https://localhost:8080/"
        },
        "id": "DCh0W4Sb-Lgr",
        "outputId": "30fe0e8a-6ccf-4472-c88e-baf8bb036a03"
      },
      "execution_count": 101,
      "outputs": [
        {
          "output_type": "stream",
          "name": "stdout",
          "text": [
            "<class 'list'> <class 'tuple'>\n"
          ]
        }
      ]
    },
    {
      "cell_type": "code",
      "source": [
        "# 89. Convert a tuple to a list and print both types.\n",
        "\n",
        "l = list(t)\n",
        "\n",
        "print(type(t), type(l))"
      ],
      "metadata": {
        "colab": {
          "base_uri": "https://localhost:8080/"
        },
        "id": "Mmv11aUv-5Qz",
        "outputId": "f405ddf3-21b1-4136-9df1-a69c4363d3ce"
      },
      "execution_count": 102,
      "outputs": [
        {
          "output_type": "stream",
          "name": "stdout",
          "text": [
            "<class 'tuple'> <class 'list'>\n"
          ]
        }
      ]
    },
    {
      "cell_type": "code",
      "source": [
        "# 90. Convert a dictionary’s keys to a list.\n",
        "\n",
        "d = {\n",
        "    'name': 'Nafiul',\n",
        "    'age': 345,\n",
        "    'city': 'Dhaka'\n",
        "}\n",
        "\n",
        "l = list(d.keys())\n",
        "l"
      ],
      "metadata": {
        "colab": {
          "base_uri": "https://localhost:8080/"
        },
        "id": "f34zPWR1_E3a",
        "outputId": "0180cf96-6137-4bf5-ad51-fc93ee02dc2c"
      },
      "execution_count": 103,
      "outputs": [
        {
          "output_type": "execute_result",
          "data": {
            "text/plain": [
              "['name', 'age', 'city']"
            ]
          },
          "metadata": {},
          "execution_count": 103
        }
      ]
    },
    {
      "cell_type": "code",
      "source": [
        "# 91. Convert a dictionary’s values to a list.\n",
        "\n",
        "l = list(d.values())"
      ],
      "metadata": {
        "id": "LaW7J4qg_V7R"
      },
      "execution_count": 104,
      "outputs": []
    },
    {
      "cell_type": "code",
      "source": [
        "l"
      ],
      "metadata": {
        "colab": {
          "base_uri": "https://localhost:8080/"
        },
        "id": "vm4c4QvX_cIq",
        "outputId": "98c4c0ce-3f36-400e-d592-157c62cd6a67"
      },
      "execution_count": 105,
      "outputs": [
        {
          "output_type": "execute_result",
          "data": {
            "text/plain": [
              "['Nafiul', 345, 'Dhaka']"
            ]
          },
          "metadata": {},
          "execution_count": 105
        }
      ]
    },
    {
      "cell_type": "code",
      "source": [
        "# 92. Create a set from a string and print the result.\n",
        "\n",
        "s = 'dgtd'\n",
        "se = set(s)\n",
        "print(se)"
      ],
      "metadata": {
        "colab": {
          "base_uri": "https://localhost:8080/"
        },
        "id": "uXdhEQyy_c7J",
        "outputId": "187fde40-ba3d-4b05-83ad-cef84321f212"
      },
      "execution_count": 106,
      "outputs": [
        {
          "output_type": "stream",
          "name": "stdout",
          "text": [
            "{'d', 't', 'g'}\n"
          ]
        }
      ]
    },
    {
      "cell_type": "code",
      "source": [
        "# 93. Use `int()` to convert a float with decimal places and note the result.\n",
        "\n",
        "f = 56.98\n",
        "i = int(56)\n",
        "\n",
        "i"
      ],
      "metadata": {
        "colab": {
          "base_uri": "https://localhost:8080/"
        },
        "id": "pa-pKhrE_rBB",
        "outputId": "774cdcb5-d0c1-4a7e-c5f6-239318b80f2c"
      },
      "execution_count": 107,
      "outputs": [
        {
          "output_type": "execute_result",
          "data": {
            "text/plain": [
              "56"
            ]
          },
          "metadata": {},
          "execution_count": 107
        }
      ]
    },
    {
      "cell_type": "code",
      "source": [
        "# 94. Convert a number to a string, concatenate it with another string, and print the result.\n",
        "\n",
        "s = str(i)\n",
        "s = s + '.98'\n",
        "\n",
        "print(s)"
      ],
      "metadata": {
        "colab": {
          "base_uri": "https://localhost:8080/"
        },
        "id": "1H89x0Bg_y4x",
        "outputId": "9377f1ae-6b1a-4968-b02a-fe2eba7f38a4"
      },
      "execution_count": 108,
      "outputs": [
        {
          "output_type": "stream",
          "name": "stdout",
          "text": [
            "56.98\n"
          ]
        }
      ]
    },
    {
      "cell_type": "code",
      "source": [
        "# ### Operators\n",
        "# 95. Use the addition operator to add two numbers.\n",
        "# 96. Use the subtraction operator to subtract one number from another.\n",
        "# 97. Use the multiplication operator to multiply two numbers.\n",
        "# 98. Divide two numbers using the division operator and print the result.\n",
        "# 99. Use the modulus operator to find the remainder of a division.\n",
        "# 100. Calculate the floor division of two numbers."
      ],
      "metadata": {
        "id": "CcE0fKDBAGfh"
      },
      "execution_count": 109,
      "outputs": []
    },
    {
      "cell_type": "code",
      "source": [
        "# 95. Use the addition operator to add two numbers.\n",
        "\n",
        "7 + 9"
      ],
      "metadata": {
        "colab": {
          "base_uri": "https://localhost:8080/"
        },
        "id": "9kzRcfv6AKYt",
        "outputId": "1e250b76-418c-43e0-c0f5-717c13352233"
      },
      "execution_count": 110,
      "outputs": [
        {
          "output_type": "execute_result",
          "data": {
            "text/plain": [
              "16"
            ]
          },
          "metadata": {},
          "execution_count": 110
        }
      ]
    },
    {
      "cell_type": "code",
      "source": [
        "# 96. Use the subtraction operator to subtract one number from another.\n",
        "\n",
        "89 - 24"
      ],
      "metadata": {
        "colab": {
          "base_uri": "https://localhost:8080/"
        },
        "id": "4tJsBb9lAOM5",
        "outputId": "6bc7a6ee-0429-42fa-b33b-cba19a923adc"
      },
      "execution_count": 111,
      "outputs": [
        {
          "output_type": "execute_result",
          "data": {
            "text/plain": [
              "65"
            ]
          },
          "metadata": {},
          "execution_count": 111
        }
      ]
    },
    {
      "cell_type": "code",
      "source": [
        "# 97. Use the multiplication operator to multiply two numbers.\n",
        "\n",
        "45 * 6"
      ],
      "metadata": {
        "colab": {
          "base_uri": "https://localhost:8080/"
        },
        "id": "VDQY1UUpASAA",
        "outputId": "31f3dbea-f0e1-47bc-f42b-dac387f75cd2"
      },
      "execution_count": 112,
      "outputs": [
        {
          "output_type": "execute_result",
          "data": {
            "text/plain": [
              "270"
            ]
          },
          "metadata": {},
          "execution_count": 112
        }
      ]
    },
    {
      "cell_type": "code",
      "source": [
        "print(323 / 50)"
      ],
      "metadata": {
        "colab": {
          "base_uri": "https://localhost:8080/"
        },
        "id": "bELNBzhrAVJ4",
        "outputId": "bdd23563-c9f0-4932-da2b-5e5968fa719c"
      },
      "execution_count": 113,
      "outputs": [
        {
          "output_type": "stream",
          "name": "stdout",
          "text": [
            "6.46\n"
          ]
        }
      ]
    },
    {
      "cell_type": "code",
      "source": [
        "# 99. Use the modulus operator to find the remainder of a division.\n",
        "\n",
        "323 % 50"
      ],
      "metadata": {
        "colab": {
          "base_uri": "https://localhost:8080/"
        },
        "id": "dYaLWIuBAb4w",
        "outputId": "e1cbcebf-ae12-41c4-d40b-5cc06a43da52"
      },
      "execution_count": 114,
      "outputs": [
        {
          "output_type": "execute_result",
          "data": {
            "text/plain": [
              "23"
            ]
          },
          "metadata": {},
          "execution_count": 114
        }
      ]
    },
    {
      "cell_type": "code",
      "source": [
        "# 100. Calculate the floor division of two numbers.\n",
        "\n",
        "323 // 50"
      ],
      "metadata": {
        "colab": {
          "base_uri": "https://localhost:8080/"
        },
        "id": "SqL7O8DXAghA",
        "outputId": "7d8bea13-8ab0-4ae7-89df-41c99bf60ff6"
      },
      "execution_count": 115,
      "outputs": [
        {
          "output_type": "execute_result",
          "data": {
            "text/plain": [
              "6"
            ]
          },
          "metadata": {},
          "execution_count": 115
        }
      ]
    },
    {
      "cell_type": "code",
      "source": [],
      "metadata": {
        "id": "e6Ur2bO7AkoY"
      },
      "execution_count": 115,
      "outputs": []
    }
  ]
}